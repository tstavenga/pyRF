{
 "cells": [
  {
   "cell_type": "code",
   "execution_count": null,
   "metadata": {},
   "outputs": [],
   "source": []
  },
  {
   "cell_type": "code",
   "execution_count": 4,
   "metadata": {},
   "outputs": [
    {
     "name": "stdout",
     "output_type": "stream",
     "text": [
      "first\n"
     ]
    },
    {
     "data": {
      "text/plain": [
       "<pyqip.TransmissionLines.CPW.CPW at 0x8ac9cf8>"
      ]
     },
     "execution_count": 4,
     "metadata": {},
     "output_type": "execute_result"
    }
   ],
   "source": [
    "from pyqip import Chip\n",
    "\n",
    "\n",
    "\n",
    "\n",
    "\n",
    "\n",
    "\n",
    "chip = Chip(author='T. Stavenga', name='Yalemon Test', tolerance=0.005)\n",
    "chip.add_pcb(layout='octobox', height=2300, holy_ground_parameters={'spacing': 3, 'size': 2, 'distance_to_edge': 152})\n",
    "chip.set_airbridge_module(name='Purcell')\n",
    "\n",
    "##############\n",
    "# Parameters #\n",
    "##############\n",
    "\n",
    "frequencies = {'Readout Q1': 5.6e9,\n",
    "               'Q2': 5.7e9,\n",
    "               'Q3': 5.8e9,\n",
    "               'Q4': 5.9e9,\n",
    "               'Q5': 6.0e9,\n",
    "               'Q6': 6.1e9,\n",
    "               'Q7': 6.2e9,\n",
    "               'Q8': 6.4e9,\n",
    "               'Q9': 6.6e9,\n",
    "               'Q10': 6.8e9,\n",
    "               'Q11': 7.0e9,\n",
    "               'Q12': 7.2e9, }\n",
    "couplingQualities = {key_name: 15e3 for key_name in frequencies}\n",
    "\n",
    "frequencyMap = {key_name: key_name for key_name in frequencies}\n",
    "\n",
    "###################\n",
    "#  Initialization #\n",
    "###################\n",
    "\n",
    "resonator_type = {'Readout Q1': 'Quarter',\n",
    "                  'Q2': 'Quarter',\n",
    "                  'Q3': 'Quarter',\n",
    "                  'Q4': 'Quarter',\n",
    "                  'Q5': 'Quarter',\n",
    "                  'Q6': 'Quarter',\n",
    "                  'Q7': 'Quarter',\n",
    "                  'Q8': 'Quarter',\n",
    "                  'Q9': 'Quarter',\n",
    "                  'Q10': 'Quarter',\n",
    "                  'Q11': 'Quarter',\n",
    "                  'Q12': 'Quarter'}\n",
    "\n",
    "\n",
    "\n",
    "\n",
    "\n",
    "# # gap_width_cpw = 6 #um\n",
    "# strip_width_cpw = 12  # um\n",
    "# grounded_line_cpw = 4  # um\n",
    "# grounded_line_feed = 4  # um\n",
    "# gap_width_cpw = {'Feed': 2.3, 'Hanger': 6}\n",
    "# # TODO: Feed is actually 2.3\n",
    "chip.set_calculations_module(name='CPW_Estimates_NM', frequencies=frequencies, frequency_map=frequencyMap,\n",
    "                             coupling_qualities=couplingQualities, resonator_type = resonator_type)\n",
    "print(\"first\")\n",
    "for reso in chip.transmissionLines:\n",
    "\tprint(reso[1].calculated_coupling_length)\n",
    "\n",
    "#############\n",
    "# Feed line #\n",
    "#############\n",
    "\n",
    "(chip.add_cpw(name='Feed line', anchor='Launcher West', airbridge_type='box', airbridge_rounding_radius=15,\n",
    "              place_abrikosov_lattice=True, set_default=True)\n",
    " .add_segment(length=338.6).define_anchor(name='Feed Q1', offset=21.3, side='right', direction=180)\n",
    " .add_segment(length=497.3).define_anchor(name='Feed Q2', offset=21.3, side='left', direction=180)\n",
    " .add_segment(length=497.3).define_anchor(name='Feed Q3', offset=21.3, side='right', direction=180)\n",
    " .add_segment(length=497.5).define_anchor(name='Feed Q4', offset=21.3, side='left', direction=180)\n",
    " .add_segment(length=497.5).define_anchor(name='Feed Q5', offset=21.3, side='right', direction=180)\n",
    " .add_segment(length=497.7).define_anchor(name='Feed Q6', offset=21.3, side='left', direction=180)\n",
    " .add_segment(length=497.7).define_anchor(name='Feed Q7', offset=21.3, side='right', direction=180)\n",
    " .add_segment(length=495.6).define_anchor(name='Feed Q8', offset=21.3, side='left', direction=180)\n",
    " .add_segment(length=495.9).define_anchor(name='Feed Q9', offset=21.3, side='right', direction=180)\n",
    " .add_segment(length=496.1).define_anchor(name='Feed Q10', offset=21.3, side='left', direction=180)\n",
    " .add_segment(length=496.3).define_anchor(name='Feed Q11', offset=21.3, side='right', direction=180)\n",
    " .add_segment(length=496.6).define_anchor(name='Feed Q12', offset=21.3, side='left', direction=180)\n",
    " .to_point(anchor='Launcher East')\n",
    " )\n",
    "\n",
    "##########\n",
    "# Qubits #\n",
    "##########\n",
    "\n",
    "chip.define_qubit(style='Yalemon', kind='Left Q1', parameters={'Flux line offset': 14.75,\n",
    "                                                               'JJ': {'Left': {'Width': 0.080},\n",
    "                                                                      'Right': {'Width': 0.080}\n",
    "                                                                      }})\n",
    "\n",
    "chip.add_qubit(name=f'Yalemon Q1', style='Yalemon', kind='Left Q1', location=(745, 875))\n",
    "\n",
    "###################\n",
    "# Flux bias lines #\n",
    "###################\n",
    "\n",
    "(chip.add_cpw(name='Flux bias line Q1', anchor='Launcher South West')\n",
    " .swerve(angle=-90, distance=150)\n",
    " .to_point(anchor='Yalemon Q1 flux')\n",
    " .add_flux(asymmetric=True)\n",
    " )\n",
    "\n",
    "###########\n",
    "# Readout #\n",
    "###########\n",
    "\n",
    "# Q1\n",
    "(chip.add_cpw(name='Readout Q1', anchor='Feed Q1')\n",
    " .add_gap(length=36)\n",
    " .add_segment(length=152.6)\n",
    " .add_turn(angle=90)\n",
    " .to_point(anchor='Yalemon Q1 hanger bottom', angle=90)\n",
    " .add_segment(length=280)\n",
    " .add_turn(angle=-90)\n",
    " .add_segment(length=22)\n",
    " .add_turn(angle=90)\n",
    " .add_segment(length=85)\n",
    " .add_turn(angle=-180)\n",
    " .add_segment(length=85)\n",
    " .add_turn(angle=90)\n",
    " .add_meander(initial_turn='right', lengths=[125, 265, 265, 265, 265, 635])\n",
    " )\n"
   ]
  },
  {
   "cell_type": "code",
   "execution_count": 5,
   "metadata": {},
   "outputs": [],
   "source": [
    "calc = chip.calculations"
   ]
  },
  {
   "cell_type": "code",
   "execution_count": 9,
   "metadata": {},
   "outputs": [
    {
     "name": "stdout",
     "output_type": "stream",
     "text": [
      "None\n"
     ]
    }
   ],
   "source": [
    "print(cpw1.)"
   ]
  },
  {
   "cell_type": "code",
   "execution_count": 19,
   "metadata": {},
   "outputs": [
    {
     "name": "stdout",
     "output_type": "stream",
     "text": [
      "None\n"
     ]
    }
   ],
   "source": [
    "print(chip.transmissionLines[2][1].length)"
   ]
  },
  {
   "cell_type": "code",
   "execution_count": 20,
   "metadata": {
    "scrolled": true
   },
   "outputs": [],
   "source": [
    "cpw1 = chip.transmissionLines[2][1]\n"
   ]
  },
  {
   "cell_type": "code",
   "execution_count": 29,
   "metadata": {},
   "outputs": [],
   "source": [
    "cpw1.resonator.calculate_coupling_capacitance('quarter',5.5e9,15e3)\n"
   ]
  },
  {
   "cell_type": "code",
   "execution_count": 30,
   "metadata": {},
   "outputs": [
    {
     "name": "stdout",
     "output_type": "stream",
     "text": [
      "None\n"
     ]
    }
   ],
   "source": [
    "print(cpw1.resonator.calculate_coupling_capacitance('quarter',5.5e9,15e3))"
   ]
  },
  {
   "cell_type": "code",
   "execution_count": 35,
   "metadata": {},
   "outputs": [
    {
     "ename": "TypeError",
     "evalue": "unsupported operand type(s) for *: 'NoneType' and 'NoneType'",
     "output_type": "error",
     "traceback": [
      "\u001b[1;31m---------------------------------------------------------------------------\u001b[0m",
      "\u001b[1;31mTypeError\u001b[0m                                 Traceback (most recent call last)",
      "\u001b[1;32m<ipython-input-35-47fc30ce1597>\u001b[0m in \u001b[0;36m<module>\u001b[1;34m\u001b[0m\n\u001b[1;32m----> 1\u001b[1;33m \u001b[0mcpw1\u001b[0m\u001b[1;33m.\u001b[0m\u001b[0mresonator\u001b[0m\u001b[1;33m.\u001b[0m\u001b[0mcalculate_unloaded_hanger_length\u001b[0m\u001b[1;33m(\u001b[0m\u001b[1;34m'quarter'\u001b[0m\u001b[1;33m,\u001b[0m\u001b[1;36m5.5e9\u001b[0m\u001b[1;33m)\u001b[0m\u001b[1;33m\u001b[0m\u001b[1;33m\u001b[0m\u001b[0m\n\u001b[0m",
      "\u001b[1;32md:\\repositories\\pyqip_py3\\pyqip\\Calculations\\CPW_Estimates_NM.py\u001b[0m in \u001b[0;36mcalculate_unloaded_hanger_length\u001b[1;34m(self, resonator_type, frequency, coupling_quality)\u001b[0m\n\u001b[0;32m    509\u001b[0m         \u001b[1;33m:\u001b[0m\u001b[1;32mreturn\u001b[0m\u001b[1;33m:\u001b[0m \u001b[0mThe\u001b[0m \u001b[0mtotal\u001b[0m \u001b[0mlength\u001b[0m \u001b[0mof\u001b[0m \u001b[0mthe\u001b[0m \u001b[0mhanger\u001b[0m \u001b[1;33m(\u001b[0m\u001b[0mum\u001b[0m\u001b[1;33m)\u001b[0m\u001b[1;33m\u001b[0m\u001b[1;33m\u001b[0m\u001b[0m\n\u001b[0;32m    510\u001b[0m         \"\"\"\n\u001b[1;32m--> 511\u001b[1;33m         \u001b[0mphase_velocity\u001b[0m \u001b[1;33m=\u001b[0m \u001b[1;36m1\u001b[0m \u001b[1;33m/\u001b[0m \u001b[0msqrt\u001b[0m\u001b[1;33m(\u001b[0m\u001b[0mself\u001b[0m\u001b[1;33m.\u001b[0m\u001b[0mLl\u001b[0m \u001b[1;33m*\u001b[0m \u001b[0mself\u001b[0m\u001b[1;33m.\u001b[0m\u001b[0mCl\u001b[0m\u001b[1;33m)\u001b[0m  \u001b[1;31m# Resonance angular velocity for LC-circuit\u001b[0m\u001b[1;33m\u001b[0m\u001b[1;33m\u001b[0m\u001b[0m\n\u001b[0m\u001b[0;32m    512\u001b[0m \u001b[1;33m\u001b[0m\u001b[0m\n\u001b[0;32m    513\u001b[0m         \u001b[1;32mif\u001b[0m \u001b[0mresonator_type\u001b[0m \u001b[1;33m==\u001b[0m \u001b[1;34m'Quarter'\u001b[0m\u001b[1;33m:\u001b[0m  \u001b[1;31m# Shorted on one side, open on the other\u001b[0m\u001b[1;33m\u001b[0m\u001b[1;33m\u001b[0m\u001b[0m\n",
      "\u001b[1;31mTypeError\u001b[0m: unsupported operand type(s) for *: 'NoneType' and 'NoneType'"
     ]
    }
   ],
   "source": [
    "cpw1.resonator.calculate_unloaded_hanger_length('quarter',5.5e9)"
   ]
  }
 ],
 "metadata": {
  "kernelspec": {
   "display_name": "Python 3",
   "language": "python",
   "name": "python3"
  },
  "language_info": {
   "codemirror_mode": {
    "name": "ipython",
    "version": 3
   },
   "file_extension": ".py",
   "mimetype": "text/x-python",
   "name": "python",
   "nbconvert_exporter": "python",
   "pygments_lexer": "ipython3",
   "version": "3.8.8"
  }
 },
 "nbformat": 4,
 "nbformat_minor": 2
}
