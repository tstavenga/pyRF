{
 "cells": [
  {
   "cell_type": "code",
   "execution_count": 4,
   "metadata": {},
   "outputs": [],
   "source": [
    "import sys \n",
    "import numpy as np\n",
    "import matplotlib\n",
    "import matplotlib.pyplot as plt \n",
    "import matplotlib.gridspec as gridspec\n",
    "import matplotlib.image as mpimg\n",
    "import matplotlib.cm as cm\n",
    "from mpl_toolkits.axes_grid1 import make_axes_locatable\n",
    "from mpl_toolkits.axes_grid.inset_locator import inset_axes\n",
    "sys.path.append('D:\\PycQED')\n",
    "from collections import OrderedDict as od\n",
    "# from pycqed.analysis import measurement_analysis as MA \n",
    "# from pycqed.analysis import analysis_toolbox as a_tools\n",
    "# import pycqed.analysis_v2.spectroscopy_analysis as ma2\n",
    "# from pycqed.analysis import fitting_models as fit_mods\n",
    "from scipy import constants\n",
    "from scipy import optimize\n",
    "import scipy\n",
    "import math\n",
    "import ipywidgets\n",
    "import pandas as pd\n",
    "\n",
    "%matplotlib inline\n",
    "# print(savedir)"
   ]
  },
  {
   "cell_type": "code",
   "execution_count": 49,
   "metadata": {},
   "outputs": [],
   "source": [
    "omega_k = 2*np.pi*5e9\n",
    "omega_kn = 2*np.pi*5.5e9\n",
    "gamma = 1e-4\n"
   ]
  },
  {
   "cell_type": "code",
   "execution_count": 50,
   "metadata": {},
   "outputs": [
    {
     "data": {
      "text/plain": [
       "array([[ 0.00000000e+00, -9.86960440e+20,  0.00000000e+00,\n",
       "        -1.19422213e+17],\n",
       "       [ 1.00000000e+00,  0.00000000e+00,  0.00000000e+00,\n",
       "         0.00000000e+00],\n",
       "       [ 0.00000000e+00, -9.86960440e+16,  0.00000000e+00,\n",
       "        -1.19422213e+21],\n",
       "       [ 0.00000000e+00,  0.00000000e+00,  1.00000000e+00,\n",
       "         0.00000000e+00]])"
      ]
     },
     "execution_count": 50,
     "metadata": {},
     "output_type": "execute_result"
    }
   ],
   "source": [
    "A = np.array([[0,-omega_k**2,0,-gamma*omega_kn**2],\n",
    "              [1,0,0,0],\n",
    "              [0,-gamma*omega_k**2,0,-omega_kn**2],\n",
    "              [0,0,1,0]])\n",
    "A"
   ]
  },
  {
   "cell_type": "code",
   "execution_count": 51,
   "metadata": {},
   "outputs": [
    {
     "name": "stdout",
     "output_type": "stream",
     "text": [
      "[0.+3.14159256e+10j 0.-3.14159256e+10j 0.+3.45575200e+10j\n",
      " 0.-3.45575200e+10j]\n",
      "[[-9.99999887e-01+0.00000000e+00j -9.99999887e-01-0.00000000e+00j\n",
      "   5.76190222e-04+0.00000000e+00j  5.76190222e-04-0.00000000e+00j]\n",
      " [ 0.00000000e+00+3.18309859e-11j  0.00000000e+00-3.18309859e-11j\n",
      "   0.00000000e+00-1.66733673e-14j  0.00000000e+00+1.66733673e-14j]\n",
      " [ 4.76190292e-04+0.00000000e+00j  4.76190292e-04-0.00000000e+00j\n",
      "   9.99999834e-01+0.00000000e+00j  9.99999834e-01-0.00000000e+00j]\n",
      " [ 0.00000000e+00-1.51576082e-14j  0.00000000e+00+1.51576082e-14j\n",
      "   0.00000000e+00-2.89372569e-11j  0.00000000e+00+2.89372569e-11j]]\n"
     ]
    }
   ],
   "source": [
    "w,v = np.linalg.eig(A)\n",
    "print(w)\n",
    "print(v)\n",
    "\n"
   ]
  },
  {
   "cell_type": "code",
   "execution_count": null,
   "metadata": {},
   "outputs": [],
   "source": []
  }
 ],
 "metadata": {
  "kernelspec": {
   "display_name": "Python 3",
   "language": "python",
   "name": "python3"
  },
  "language_info": {
   "codemirror_mode": {
    "name": "ipython",
    "version": 3
   },
   "file_extension": ".py",
   "mimetype": "text/x-python",
   "name": "python",
   "nbconvert_exporter": "python",
   "pygments_lexer": "ipython3",
   "version": "3.7.4"
  }
 },
 "nbformat": 4,
 "nbformat_minor": 2
}
