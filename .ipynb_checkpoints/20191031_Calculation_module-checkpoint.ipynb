{
 "cells": [
  {
   "cell_type": "code",
   "execution_count": 3,
   "metadata": {},
   "outputs": [
    {
     "name": "stderr",
     "output_type": "stream",
     "text": [
      "C:\\ProgramData\\Anaconda3\\lib\\site-packages\\ipykernel_launcher.py:9: MatplotlibDeprecationWarning: \n",
      "The mpl_toolkits.axes_grid module was deprecated in Matplotlib 2.1 and will be removed two minor releases later. Use mpl_toolkits.axes_grid1 and mpl_toolkits.axisartist, which provide the same functionality instead.\n",
      "  if __name__ == '__main__':\n"
     ]
    }
   ],
   "source": [
    "import sys \n",
    "import numpy as np\n",
    "import matplotlib\n",
    "import matplotlib.pyplot as plt \n",
    "import matplotlib.gridspec as gridspec\n",
    "import matplotlib.image as mpimg\n",
    "import matplotlib.cm as cm\n",
    "from mpl_toolkits.axes_grid1 import make_axes_locatable\n",
    "from mpl_toolkits.axes_grid.inset_locator import inset_axes\n",
    "sys.path.append('D:\\PycQED')\n",
    "from collections import OrderedDict as od\n",
    "# from pycqed.analysis import measurement_analysis as MA \n",
    "# from pycqed.analysis import analysis_toolbox as a_tools\n",
    "# import pycqed.analysis_v2.spectroscopy_analysis as ma2\n",
    "# from pycqed.analysis import fitting_models as fit_mods\n",
    "from scipy import constants\n",
    "from scipy import optimize\n",
    "import scipy\n",
    "import math\n",
    "import ipywidgets\n",
    "import pandas as pd\n",
    "\n",
    "import lmfit\n",
    "import colorsys as colors\n",
    "from IPython.display import display\n",
    "# from nw_plotting_tools import *\n",
    "# execfile('nw_figure_settings.py')\n",
    "# savedir = 'D:\\\\Experiments\\\\1801_Holy_Chip\\\\Data_Figures\\\\'\n",
    "# reload(MA)\n",
    "# reload(a_tools)\n",
    "%matplotlib inline\n",
    "# print(savedir)"
   ]
  },
  {
   "cell_type": "code",
   "execution_count": 4,
   "metadata": {},
   "outputs": [
    {
     "ename": "NameError",
     "evalue": "name 'G' is not defined",
     "output_type": "error",
     "traceback": [
      "\u001b[1;31m---------------------------------------------------------------------------\u001b[0m",
      "\u001b[1;31mNameError\u001b[0m                                 Traceback (most recent call last)",
      "\u001b[1;32m<ipython-input-4-049eae2532ab>\u001b[0m in \u001b[0;36m<module>\u001b[1;34m\u001b[0m\n\u001b[1;32m----> 1\u001b[1;33m \u001b[0mprint\u001b[0m\u001b[1;33m(\u001b[0m\u001b[0mG\u001b[0m\u001b[1;33m.\u001b[0m\u001b[0mget_edge_data\u001b[0m\u001b[1;33m(\u001b[0m\u001b[1;33m*\u001b[0m\u001b[0mlist\u001b[0m\u001b[1;33m(\u001b[0m\u001b[0mp\u001b[0m\u001b[1;33m)\u001b[0m\u001b[1;33m[\u001b[0m\u001b[1;36m0\u001b[0m\u001b[1;33m]\u001b[0m\u001b[1;33m)\u001b[0m\u001b[1;33m)\u001b[0m\u001b[1;33m\u001b[0m\u001b[1;33m\u001b[0m\u001b[0m\n\u001b[0m",
      "\u001b[1;31mNameError\u001b[0m: name 'G' is not defined"
     ]
    }
   ],
   "source": [
    "print(G.get_edge_data(*list(p)[0]))"
   ]
  },
  {
   "cell_type": "code",
   "execution_count": null,
   "metadata": {},
   "outputs": [],
   "source": [
    "p = G.edges()\n",
    "print(list(p)[0])\n"
   ]
  },
  {
   "cell_type": "code",
   "execution_count": null,
   "metadata": {},
   "outputs": [],
   "source": [
    "N_channels = 1\n",
    "print(np.eye(1,1,0))\n",
    "np.diag(np.eye(1,2,1)[0])\n"
   ]
  },
  {
   "cell_type": "code",
   "execution_count": null,
   "metadata": {},
   "outputs": [],
   "source": [
    "for n in G.nodes():\n",
    "    print(n)\n",
    "\n",
    "print(np.diagflat(1,-1))"
   ]
  },
  {
   "cell_type": "code",
   "execution_count": 5,
   "metadata": {},
   "outputs": [
    {
     "ename": "NameError",
     "evalue": "name 'nx' is not defined",
     "output_type": "error",
     "traceback": [
      "\u001b[1;31m---------------------------------------------------------------------------\u001b[0m",
      "\u001b[1;31mNameError\u001b[0m                                 Traceback (most recent call last)",
      "\u001b[1;32m<ipython-input-5-8332d617d712>\u001b[0m in \u001b[0;36m<module>\u001b[1;34m\u001b[0m\n\u001b[0;32m     11\u001b[0m                  \u001b[1;34m'values'\u001b[0m\u001b[1;33m:\u001b[0m\u001b[1;33m{\u001b[0m\u001b[1;34m'length'\u001b[0m\u001b[1;33m:\u001b[0m\u001b[0mL\u001b[0m\u001b[1;33m}\u001b[0m\u001b[1;33m\u001b[0m\u001b[1;33m\u001b[0m\u001b[0m\n\u001b[0;32m     12\u001b[0m                 }\n\u001b[1;32m---> 13\u001b[1;33m \u001b[0mG\u001b[0m \u001b[1;33m=\u001b[0m \u001b[0mnx\u001b[0m\u001b[1;33m.\u001b[0m\u001b[0mDiGraph\u001b[0m\u001b[1;33m(\u001b[0m\u001b[1;33m)\u001b[0m\u001b[1;33m\u001b[0m\u001b[1;33m\u001b[0m\u001b[0m\n\u001b[0m\u001b[0;32m     14\u001b[0m \u001b[0mG\u001b[0m\u001b[1;33m.\u001b[0m\u001b[0madd_node\u001b[0m\u001b[1;33m(\u001b[0m\u001b[1;36m1\u001b[0m\u001b[1;33m,\u001b[0m\u001b[1;33m**\u001b[0m\u001b[0mshort_dict\u001b[0m\u001b[1;33m)\u001b[0m\u001b[1;33m\u001b[0m\u001b[1;33m\u001b[0m\u001b[0m\n\u001b[0;32m     15\u001b[0m \u001b[0mG\u001b[0m\u001b[1;33m.\u001b[0m\u001b[0madd_node\u001b[0m\u001b[1;33m(\u001b[0m\u001b[1;36m2\u001b[0m\u001b[1;33m,\u001b[0m\u001b[1;33m**\u001b[0m\u001b[0mshort_dict\u001b[0m\u001b[1;33m)\u001b[0m\u001b[1;33m\u001b[0m\u001b[1;33m\u001b[0m\u001b[0m\n",
      "\u001b[1;31mNameError\u001b[0m: name 'nx' is not defined"
     ]
    }
   ],
   "source": [
    "import numpy as np\n",
    "def propagator(self,k,z):\n",
    "    return np.exp(1j*k*z)\n",
    "L = 4414.2e-6\n",
    "short_dict = {'params':None,\n",
    "                   'S_matrix':-1.,\n",
    "              \n",
    "                  }\n",
    "segment_dict = {'params':'k',\n",
    "                 'S_matrix':lambda k: propagator(k,z=L),\n",
    "                 'values':{'length':L}\n",
    "                }\n",
    "G = nx.DiGraph()\n",
    "G.add_node(1,**short_dict)\n",
    "G.add_node(2,**short_dict)\n",
    "G.add_edge(1, 2,**segment_dict,channel=0)\n",
    "N_channels=1\n",
    "S_ch = np.diag(np.eye(1,1,0)[0])\n",
    "edge1 = list(G.edges)[0]\n",
    "print(G.get_edge_data(*edge1)['channel'])\n",
    "print(edge1)\n",
    "n1,n2 = edge1\n",
    "S_B = np.array([[0,G.node[n1]['S_matrix']],[G.node[n2]['S_matrix'],0]])\n",
    "print(np.kron(S_ch,S_B))\n",
    "print(S_B)\n",
    "# G.get_edge_data(edge1)\n",
    "# S_P = lambda k: \n",
    "nx.draw(G,with_labels = True)"
   ]
  },
  {
   "cell_type": "code",
   "execution_count": 6,
   "metadata": {},
   "outputs": [
    {
     "ename": "NameError",
     "evalue": "name 'G' is not defined",
     "output_type": "error",
     "traceback": [
      "\u001b[1;31m---------------------------------------------------------------------------\u001b[0m",
      "\u001b[1;31mNameError\u001b[0m                                 Traceback (most recent call last)",
      "\u001b[1;32m<ipython-input-6-3d5a0f594748>\u001b[0m in \u001b[0;36m<module>\u001b[1;34m\u001b[0m\n\u001b[1;32m----> 1\u001b[1;33m \u001b[0mprint\u001b[0m\u001b[1;33m(\u001b[0m\u001b[0mG\u001b[0m\u001b[1;33m.\u001b[0m\u001b[0mnodes\u001b[0m\u001b[1;33m(\u001b[0m\u001b[1;33m)\u001b[0m\u001b[1;33m)\u001b[0m\u001b[1;33m\u001b[0m\u001b[1;33m\u001b[0m\u001b[0m\n\u001b[0m\u001b[0;32m      2\u001b[0m \u001b[1;32mfor\u001b[0m \u001b[0mn\u001b[0m\u001b[1;33m,\u001b[0m \u001b[0mS_matrix\u001b[0m \u001b[1;32min\u001b[0m \u001b[0mG\u001b[0m\u001b[1;33m.\u001b[0m\u001b[0mnodes\u001b[0m\u001b[1;33m(\u001b[0m\u001b[0mdata\u001b[0m\u001b[1;33m=\u001b[0m\u001b[1;34m'S_matrix'\u001b[0m\u001b[1;33m)\u001b[0m\u001b[1;33m:\u001b[0m\u001b[1;33m\u001b[0m\u001b[1;33m\u001b[0m\u001b[0m\n\u001b[0;32m      3\u001b[0m     \u001b[0mprint\u001b[0m\u001b[1;33m(\u001b[0m\u001b[0mG\u001b[0m\u001b[1;33m.\u001b[0m\u001b[0medges\u001b[0m\u001b[1;33m(\u001b[0m\u001b[0mn\u001b[0m\u001b[1;33m)\u001b[0m\u001b[1;33m)\u001b[0m\u001b[1;33m\u001b[0m\u001b[1;33m\u001b[0m\u001b[0m\n",
      "\u001b[1;31mNameError\u001b[0m: name 'G' is not defined"
     ]
    }
   ],
   "source": [
    "print(G.nodes())\n",
    "for n, S_matrix in G.nodes(data='S_matrix'):\n",
    "    print(G.edges(n))"
   ]
  },
  {
   "cell_type": "code",
   "execution_count": 134,
   "metadata": {},
   "outputs": [],
   "source": [
    "from scipy.optimize import minimize\n",
    "from scipy.linalg import null_space\n",
    "import networkx as nx\n",
    "\n",
    "# class chip:\n",
    "#     # Resonator has an eigenmode chip doesnt\n",
    "#     G = nx.DiGraph()\n",
    "    \n",
    "class resonator:\n",
    "    # general mathematical functions\n",
    "    ## values are know constants set by the user\n",
    "    ## params are used for optimization to calculate the right value\n",
    "    short_dict = {'params':None,\n",
    "                       'S_matrix':-1.,\n",
    "                      }\n",
    "    open_dict = {'params':None,\n",
    "                      'S_matrix':1.,\n",
    "                      }\n",
    "    \n",
    "    def __init__(self):\n",
    "        self.R = nx.DiGraph()\n",
    "        self.N_channels = 0\n",
    "        \n",
    "    @staticmethod\n",
    "    def capacitance_S_matrix(k,C,Phi0,Z0):\n",
    "        return (1-1j*k*C*Phi0*Z0)/(1+1j*k*C*Phi0*Z0)\n",
    "    \n",
    "    @staticmethod\n",
    "    def inductance_S_matrix(k,L,Phi0,Z0):\n",
    "        return -(1-1j*k*L*Phi0/Z0)/(1+1j*k*L*Phi0/Z0)\n",
    "    \n",
    "    @staticmethod\n",
    "    def basis(k,z):\n",
    "        return np.array([np.exp(1j*k*z),np.exp(-1j*k*z)])\n",
    "    \n",
    "    @staticmethod\n",
    "    def propagator(k,z):\n",
    "        return np.array([[np.exp(-1j*k*z),0],[0,np.exp(-1j*k*z)]])\n",
    "    \n",
    "\n",
    "    def add_short(self, Anchor):\n",
    "        self.R.add_node(Anchor, **self.short_dict)\n",
    "        return self\n",
    "    \n",
    "    def add_inductive_short(self):\n",
    "        pass\n",
    "    \n",
    "    def add_open(self, Anchor):\n",
    "        self.R.add_node(Anchor, **self.open_dict)\n",
    "        return self\n",
    "    \n",
    "    def add_capacitive_open(self, Anchor, C):\n",
    "        capacitive_open_dict = {'params': 'k',\n",
    "                                'values': {'C':C},\n",
    "                                'S_matrix': self.capacitance_S_matrix}\n",
    "        self.R.add_node(Anchor, **capacitive_open_dict)\n",
    "        return self\n",
    "        \n",
    "    def add_inductive_short(self, Anchor, L):\n",
    "        inductive_short_dict = {'params': 'k',\n",
    "                                'values': {'L':L},\n",
    "                                'S_matrix': self.inductance_S_matrix}\n",
    "        self.R.add_node(Anchor, **inductive_short_dict)\n",
    "        return self\n",
    "        \n",
    "    def add_segment(self,Anchors: tuple,\n",
    "                    length: float, \n",
    "                    Z0: float = None, \n",
    "                    Phi0: float = None, \n",
    "                    lc: float = None, \n",
    "                    cc: float = None):\n",
    "        self.length=length\n",
    "        self.Phi0 = Phi0\n",
    "        segment_dict = {'length':length,\n",
    "                        'characteristic_values':{\n",
    "                                    'Z0':Z0,\n",
    "                                    'Phi0':Phi0}\n",
    "                        }\n",
    "        channel_nr = self.N_channels\n",
    "        self.R.add_edge(*Anchors, **segment_dict,channel = channel_nr)\n",
    "        self.R.node[Anchors[0]]['channel'] = channel_nr\n",
    "        self.R.node[Anchors[1]]['channel'] = channel_nr\n",
    "        self.N_channels += 1\n",
    "        return self\n",
    "    \n",
    "    def _get_scattering_matrix(self):\n",
    "        #loop over nodes\n",
    "            #extract the scattering matrix\n",
    "            #extract the channel number\n",
    "            #tensor product the two\n",
    "            #Add to the scattering matrix\n",
    "        \n",
    "        def S_B_matrix(k):\n",
    "            S_B = np.zeros((2*self.N_channels,2*self.N_channels),dtype=np.complex128)\n",
    "            for n in self.R.nodes():\n",
    "                node_data = self.R.node[n]\n",
    "                Ch_node = node_data['channel']\n",
    "                S_ch = np.diag(np.eye(1,self.N_channels,Ch_node)[0])\n",
    "                for e in self.R.in_edges(n):\n",
    "                    e_data = self.R.get_edge_data(*e)\n",
    "                    S_node = node_data['S_matrix']\n",
    "                    if callable(S_node):\n",
    "                        S_matrix_node = S_node(k,**node_data['values'],**e_data['characteristic_values'])\n",
    "                    else:\n",
    "                        S_matrix_node = S_node\n",
    "                    S_B1 = np.diagflat(1,1)*S_matrix_node\n",
    "                    S = np.kron(S_ch,S_B1)\n",
    "                    S_B += S\n",
    "\n",
    "                for e in self.R.out_edges(n):\n",
    "                    e_data = self.R.get_edge_data(*e)\n",
    "                    S_node = node_data['S_matrix']\n",
    "                    if callable(S_node):\n",
    "                        S_matrix_node = S_node(k,**node_data['values'],**e_data['characteristic_values'])\n",
    "                    else:\n",
    "                        S_matrix_node = S_node\n",
    "                    S_B2 = np.diagflat(1,-1)*S_matrix_node\n",
    "                    S = np.kron(S_ch,S_B2)\n",
    "                    S_B += S\n",
    "            return S_B\n",
    "        return S_B_matrix\n",
    "\n",
    "    def _get_propagation_matrix(self):\n",
    "        #loop over edges\n",
    "            #extract channel number\n",
    "            #construct propagation matrix\n",
    "            #tensor product the two\n",
    "            # add to the propagation matrix\n",
    "        \n",
    "        def P_matrix(k):\n",
    "            S_P = np.zeros((2*self.N_channels,2*self.N_channels),dtype=np.complex128)\n",
    "            for e in self.R.edges():\n",
    "                e_data = self.R.get_edge_data(*e)\n",
    "                e_channel = e_data['channel']\n",
    "                length = e_data['length']\n",
    "                S_P = self.propagator(k,length)\n",
    "                S_ch = np.diag(np.eye(1,self.N_channels,e_channel)[0])\n",
    "                S = np.kron(S_ch,S_P)\n",
    "            return S\n",
    "        return P_matrix\n",
    "            \n",
    "            \n",
    "            \n",
    "            \n",
    "            \n",
    "            \n",
    "    def get_eigenmode(self):\n",
    "        guess = self.get_mode_guess('k')\n",
    "        self.S_B = self._get_scattering_matrix()\n",
    "        self.S_P = self._get_propagation_matrix()\n",
    "        def mode_condition(k):\n",
    "            if type(k) == np.ndarray:\n",
    "                k = k[0]\n",
    "            mode_condition = np.linalg.det(np.subtract(np.eye(2),np.matmul(self.S_B(k),self.S_P(k))))\n",
    "            return mode_condition\n",
    "            \n",
    "        result = minimize(mode_condition,guess)\n",
    "\n",
    "        self.k_res = abs(result['x'][0])\n",
    "        self.omega_res = self.k_res*self.Phi0\n",
    "        self.f_res = self.omega_res/2/np.pi\n",
    "#         self.tolerance = result\n",
    "        return self.k_res, self.f_res\n",
    "    \n",
    "    def get_eigenfunction(self):\n",
    "        k_res = self.k_res\n",
    "        T = np.matmul(self.S_B(k_res),self.S_P(k_res))\n",
    "        self.eigenfunction_coefficients = null_space(np.subtract(np.eye(2),T),rcond=1e-3)[:,0]\n",
    "        #calculate nullspace\n",
    "        def eigenfunction(z):\n",
    "            return list(map(lambda zv: np.sum(self.eigenfunction_coefficients*self.basis(k_res,zv)),z))\n",
    "\n",
    "        return eigenfunction\n",
    "    \n",
    "    #helper functions\n",
    "    def get_mode_guess(self,params):\n",
    "        if params == 'k':\n",
    "            return 2*np.pi/4/self.length\n",
    "        else:\n",
    "            raise NotImplementedError('Parameter %s is not implemented yet'%(self.params))\n",
    "        \n"
   ]
  },
  {
   "cell_type": "code",
   "execution_count": 137,
   "metadata": {
    "scrolled": false
   },
   "outputs": [
    {
     "name": "stdout",
     "output_type": "stream",
     "text": [
      "(129.5021615915699, 1978647279.204839)\n"
     ]
    },
    {
     "data": {
      "text/plain": [
       "[<matplotlib.lines.Line2D at 0x11a7ab38>]"
      ]
     },
     "execution_count": 137,
     "metadata": {},
     "output_type": "execute_result"
    },
    {
     "data": {
      "image/png": "[encoded data removed]",
      "text/plain": [
       "<Figure size 432x288 with 1 Axes>"
      ]
     },
     "metadata": {
      "needs_background": "light"
     },
     "output_type": "display_data"
    }
   ],
   "source": [
    "import matplotlib.pyplot as plt \n",
    "%matplotlib inline\n",
    "q1_params = {'Z0':50,\n",
    "             'Phi0':0.96e8,\n",
    "             'lc':None,\n",
    "             'cc':None}\n",
    "L = 4414e-6\n",
    "reso1 = (resonator()\n",
    "      .add_short('B')#,L=1e-)\n",
    "      .add_capacitive_open('B',C=25e-15)\n",
    "      .add_segment(('A','B'), length = L, **q1_params)\n",
    ")\n",
    "\n",
    "# reso1 = (resonator()\n",
    "#       .add_capacitive_open('A',C=500e-15)\n",
    "#       .add_capacitive_open('B',C=500e-15)\n",
    "#       .add_segment(('A','B'), length = L, **q1_params)\n",
    "# )\n",
    "# print(reso1._get_scattering_matrix())\n",
    "prop_fun = reso1._get_propagation_matrix()\n",
    "print(reso1.get_eigenmode())\n",
    "eigenfunc = reso1.get_eigenfunction()\n",
    "zvals = np.linspace(-L/2,L/2,100)\n",
    "plt.plot(zvals,np.absolute(eigenfunc(zvals)))\n"
   ]
  },
  {
   "cell_type": "code",
   "execution_count": null,
   "metadata": {},
   "outputs": [],
   "source": [
    "np.array([[np.exp(1j*1.51),0],[0,np.exp(1j*1.51)]])"
   ]
  },
  {
   "cell_type": "code",
   "execution_count": 268,
   "metadata": {
    "scrolled": true
   },
   "outputs": [
    {
     "name": "stdout",
     "output_type": "stream",
     "text": [
      "node:  A\n",
      "S_matrix [[0. 1.]\n",
      " [0. 0.]]\n",
      "node:  B\n",
      "S_matrix [[0. 1.]\n",
      " [0. 0.]]\n"
     ]
    }
   ],
   "source": [
    "for n in reso1.R.nodes():\n",
    "    print('node: ',n)\n",
    "    node_data = reso1.R.node[n]\n",
    "    print('S_matrix',node_data['S_matrix']*np.diagflat(1,1))"
   ]
  },
  {
   "cell_type": "code",
   "execution_count": 269,
   "metadata": {},
   "outputs": [
    {
     "name": "stdout",
     "output_type": "stream",
     "text": [
      "[[ 1.00000000e+00+0.j  4.76920608e-05+1.j]\n",
      " [-4.76920608e-05-1.j  1.00000000e+00+0.j]]\n",
      "[[1 1]\n",
      " [1 1]]\n",
      "[ 0.70710678 -0.70710678]\n"
     ]
    }
   ],
   "source": [
    "T = np.array([[ 0.00000000e+00+0.j, -4.76920608e-05-1.j],[ 4.76920608e-05+1.j,  0.00000000e+00+0.j]])\n",
    "nul = np.subtract(np.eye(2),T)\n",
    "print(nul)\n",
    "nul2 = np.array([[ 1, 1],[ 1,  1]])\n",
    "print(nul2)\n",
    "eigenfunction_coefficients = null_space(np.array(nul2),rcond=1e-3)[:,0]\n",
    "print(eigenfunction_coefficients)"
   ]
  },
  {
   "cell_type": "code",
   "execution_count": 272,
   "metadata": {},
   "outputs": [
    {
     "data": {
      "text/plain": [
       "array([0.99949653+0.03172842j, 0.99949653-0.03172842j])"
      ]
     },
     "execution_count": 272,
     "metadata": {},
     "output_type": "execute_result"
    }
   ],
   "source": [
    "reso1.basis(reso1.k_res,zvals[1])"
   ]
  },
  {
   "cell_type": "code",
   "execution_count": 273,
   "metadata": {
    "scrolled": true
   },
   "outputs": [
    {
     "data": {
      "text/plain": [
       "[<matplotlib.lines.Line2D at 0x231b7187dd8>]"
      ]
     },
     "execution_count": 273,
     "metadata": {},
     "output_type": "execute_result"
    },
    {
     "data": {
      "image/png": "[encoded data removed]",
      "text/plain": [
       "<Figure size 432x288 with 1 Axes>"
      ]
     },
     "metadata": {},
     "output_type": "display_data"
    }
   ],
   "source": [
    "modevals = [np.sum(eigenfunction_coefficients*reso1.basis(reso1.k_res,zv)) for zv in zvals]\n",
    "plt.plot(zvals,np.absolute(modevals))"
   ]
  },
  {
   "cell_type": "code",
   "execution_count": 238,
   "metadata": {},
   "outputs": [
    {
     "ename": "NameError",
     "evalue": "name 'q1' is not defined",
     "output_type": "error",
     "traceback": [
      "\u001b[1;31m---------------------------------------------------------------------------\u001b[0m",
      "\u001b[1;31mNameError\u001b[0m                                 Traceback (most recent call last)",
      "\u001b[1;32m<ipython-input-238-6dfcd735f647>\u001b[0m in \u001b[0;36m<module>\u001b[1;34m()\u001b[0m\n\u001b[1;32m----> 1\u001b[1;33m \u001b[0mplotfn\u001b[0m \u001b[1;33m=\u001b[0m \u001b[0mq1\u001b[0m\u001b[1;33m.\u001b[0m\u001b[0mget_eigenfunction\u001b[0m\u001b[1;33m(\u001b[0m\u001b[1;33m)\u001b[0m\u001b[1;33m\u001b[0m\u001b[0m\n\u001b[0m\u001b[0;32m      2\u001b[0m \u001b[0mz_vals\u001b[0m \u001b[1;33m=\u001b[0m \u001b[0mnp\u001b[0m\u001b[1;33m.\u001b[0m\u001b[0mlinspace\u001b[0m\u001b[1;33m(\u001b[0m\u001b[1;36m0\u001b[0m\u001b[1;33m,\u001b[0m\u001b[1;33m-\u001b[0m\u001b[0mL\u001b[0m\u001b[1;33m,\u001b[0m\u001b[1;36m100\u001b[0m\u001b[1;33m)\u001b[0m\u001b[1;33m\u001b[0m\u001b[0m\n\u001b[0;32m      3\u001b[0m \u001b[1;31m# [print(x) for x in list(map(lambda x: q1.propagator(711,x),z_vals))]\u001b[0m\u001b[1;33m\u001b[0m\u001b[1;33m\u001b[0m\u001b[0m\n\u001b[0;32m      4\u001b[0m \u001b[0mprint\u001b[0m\u001b[1;33m(\u001b[0m\u001b[0mplotfn\u001b[0m\u001b[1;33m(\u001b[0m\u001b[0mz_vals\u001b[0m\u001b[1;33m)\u001b[0m\u001b[1;33m)\u001b[0m\u001b[1;33m\u001b[0m\u001b[0m\n\u001b[0;32m      5\u001b[0m \u001b[0mplt\u001b[0m\u001b[1;33m.\u001b[0m\u001b[0mplot\u001b[0m\u001b[1;33m(\u001b[0m\u001b[0mz_vals\u001b[0m\u001b[1;33m,\u001b[0m\u001b[0mplotfn\u001b[0m\u001b[1;33m(\u001b[0m\u001b[0mz_vals\u001b[0m\u001b[1;33m)\u001b[0m\u001b[1;33m)\u001b[0m\u001b[1;33m\u001b[0m\u001b[0m\n",
      "\u001b[1;31mNameError\u001b[0m: name 'q1' is not defined"
     ]
    }
   ],
   "source": [
    "plotfn = q1.get_eigenfunction()\n",
    "z_vals = np.linspace(0,-L,100)\n",
    "# [print(x) for x in list(map(lambda x: q1.propagator(711,x),z_vals))]\n",
    "print(plotfn(z_vals))\n",
    "plt.plot(z_vals,plotfn(z_vals))\n",
    "# plotfn(z_vals)"
   ]
  },
  {
   "cell_type": "code",
   "execution_count": 6,
   "metadata": {},
   "outputs": [
    {
     "data": {
      "text/plain": [
       "136627134140.15999"
      ]
     },
     "execution_count": 6,
     "metadata": {},
     "output_type": "execute_result"
    }
   ],
   "source": [
    "T  = np.array([[-0.7259323+0.68776616j,0.+0.j],\n",
    "                [0.+0.j,-0.7259323-0.68776616j]])\n",
    "np.linalg.det(T)\n",
    "1423.19931396*0.96e8"
   ]
  },
  {
   "cell_type": "code",
   "execution_count": 7,
   "metadata": {},
   "outputs": [
    {
     "data": {
      "text/plain": [
       "array([[1., 0.],\n",
       "       [0., 1.]])"
      ]
     },
     "execution_count": 7,
     "metadata": {},
     "output_type": "execute_result"
    }
   ],
   "source": [
    "null_space(np.eye(2)-np.eye(2))"
   ]
  },
  {
   "cell_type": "code",
   "execution_count": 8,
   "metadata": {
    "collapsed": true
   },
   "outputs": [],
   "source": [
    "A = [[1.-2.38055826e-08j, 0],\n",
    " [0, 1.+2.38055826e-08j]]\n",
    "B = np.eye(2)-A"
   ]
  },
  {
   "cell_type": "code",
   "execution_count": 9,
   "metadata": {},
   "outputs": [
    {
     "data": {
      "text/plain": [
       "array([[-1.-0.j, -0.-0.j],\n",
       "       [-0.-0.j, -1.-0.j]])"
      ]
     },
     "execution_count": 9,
     "metadata": {},
     "output_type": "execute_result"
    }
   ],
   "source": [
    "null_space(B,rcond=1)"
   ]
  },
  {
   "cell_type": "code",
   "execution_count": 10,
   "metadata": {},
   "outputs": [
    {
     "data": {
      "text/plain": [
       "matrix([[-0.99999521+0.00309645j,  0.        +0.j        ],\n",
       "        [ 0.        +0.j        , -0.99999521-0.00309645j]])"
      ]
     },
     "execution_count": 10,
     "metadata": {},
     "output_type": "execute_result"
    }
   ],
   "source": [
    "np.matrix([[np.exp(1j*711*L),0],[0,np.exp(-1j*711*L)]])"
   ]
  },
  {
   "cell_type": "code",
   "execution_count": null,
   "metadata": {
    "collapsed": true
   },
   "outputs": [],
   "source": []
  }
 ],
 "metadata": {
  "kernelspec": {
   "display_name": "Python 3",
   "language": "python",
   "name": "python3"
  },
  "language_info": {
   "codemirror_mode": {
    "name": "ipython",
    "version": 3
   },
   "file_extension": ".py",
   "mimetype": "text/x-python",
   "name": "python",
   "nbconvert_exporter": "python",
   "pygments_lexer": "ipython3",
   "version": "3.7.4"
  }
 },
 "nbformat": 4,
 "nbformat_minor": 1
}
