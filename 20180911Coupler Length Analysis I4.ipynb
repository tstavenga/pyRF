{
 "cells": [
  {
   "cell_type": "code",
   "execution_count": 3,
   "metadata": {
    "collapsed": true
   },
   "outputs": [],
   "source": [
    "import matplotlib.pyplot as plt\n",
    "%matplotlib inline\n",
    "PyQip_folder = \"D:\\Repositories\\PyQip\"\n",
    "import sys\n",
    "sys.path.append(PyQip_folder)\n",
    "# from PyQcv import PyQcv_class\n",
    "# from PyQcv.PyQcv_class import *\n",
    "import importlib\n",
    "import gdspy\n",
    "import numpy as np\n",
    "# from PyQcv import detection\n",
    "# from PyQcv import qubit_cv\n",
    "# importlib.reload(detection)\n",
    "# importlib.reload(qubit_cv)\n",
    "\n",
    "# img_name = 'D:\\Repositories\\iPython-Notebooks\\personal_folders\\Thijs\\Image Recognition\\IR_photoshopped\\A1\\Image_13900.jpg'\n",
    "# boremon = qubit_cv.boremon_qubit_cv(img_name,test=True)"
   ]
  },
  {
   "cell_type": "code",
   "execution_count": 3,
   "metadata": {},
   "outputs": [
    {
     "ename": "NameError",
     "evalue": "name 'boremon' is not defined",
     "output_type": "error",
     "traceback": [
      "\u001b[1;31m---------------------------------------------------------------------------\u001b[0m",
      "\u001b[1;31mNameError\u001b[0m                                 Traceback (most recent call last)",
      "\u001b[1;32m<ipython-input-3-c8aa835ab0d3>\u001b[0m in \u001b[0;36m<module>\u001b[1;34m()\u001b[0m\n\u001b[1;32m----> 1\u001b[1;33m \u001b[0mboremon\u001b[0m\u001b[1;33m.\u001b[0m\u001b[0manalyse_image\u001b[0m\u001b[1;33m(\u001b[0m\u001b[0mholes\u001b[0m\u001b[1;33m=\u001b[0m\u001b[1;32mTrue\u001b[0m\u001b[1;33m)\u001b[0m\u001b[1;33m\u001b[0m\u001b[0m\n\u001b[0m",
      "\u001b[1;31mNameError\u001b[0m: name 'boremon' is not defined"
     ]
    }
   ],
   "source": [
    "boremon.analyse_image(holes=True)"
   ]
  },
  {
   "cell_type": "code",
   "execution_count": 4,
   "metadata": {},
   "outputs": [
    {
     "ename": "NameError",
     "evalue": "name 'boremon' is not defined",
     "output_type": "error",
     "traceback": [
      "\u001b[1;31m---------------------------------------------------------------------------\u001b[0m",
      "\u001b[1;31mNameError\u001b[0m                                 Traceback (most recent call last)",
      "\u001b[1;32m<ipython-input-4-3f9ef623f780>\u001b[0m in \u001b[0;36m<module>\u001b[1;34m()\u001b[0m\n\u001b[1;32m----> 1\u001b[1;33m \u001b[0mboremon\u001b[0m\u001b[1;33m.\u001b[0m\u001b[0mplot_img\u001b[0m\u001b[1;33m(\u001b[0m\u001b[1;33m)\u001b[0m\u001b[1;33m\u001b[0m\u001b[0m\n\u001b[0m",
      "\u001b[1;31mNameError\u001b[0m: name 'boremon' is not defined"
     ]
    }
   ],
   "source": [
    "boremon.plot_img()"
   ]
  },
  {
   "cell_type": "code",
   "execution_count": 5,
   "metadata": {
    "collapsed": true
   },
   "outputs": [],
   "source": [
    "import gdspy as cad"
   ]
  },
  {
   "cell_type": "code",
   "execution_count": 6,
   "metadata": {},
   "outputs": [
    {
     "ename": "SyntaxError",
     "evalue": "invalid syntax (<ipython-input-6-9cbefecf4543>, line 1)",
     "output_type": "error",
     "traceback": [
      "\u001b[1;36m  File \u001b[1;32m\"<ipython-input-6-9cbefecf4543>\"\u001b[1;36m, line \u001b[1;32m1\u001b[0m\n\u001b[1;33m    rec.\u001b[0m\n\u001b[1;37m        ^\u001b[0m\n\u001b[1;31mSyntaxError\u001b[0m\u001b[1;31m:\u001b[0m invalid syntax\n"
     ]
    }
   ],
   "source": [
    "rec."
   ]
  },
  {
   "cell_type": "code",
   "execution_count": 7,
   "metadata": {},
   "outputs": [
    {
     "data": {
      "text/plain": [
       "array([[ 0,  0],\n",
       "       [ 0, 20],\n",
       "       [20, 20],\n",
       "       [20,  0]])"
      ]
     },
     "execution_count": 7,
     "metadata": {},
     "output_type": "execute_result"
    }
   ],
   "source": [
    "rec = cad.Rectangle((0,0),(20,20))\n",
    "rec2 = cad.Rectangle((20,20),(40,40))\n",
    "prec = rec.polygons\n",
    "prec2 = rec2.polygons\n",
    "pset = cad.PolygonSet([prec,prec2])\n",
    "prec[0]\n",
    "# rec.\n",
    "# prec = cad.Polygon(rec.polygons)\n",
    "# pset = cad.PolygonSet([prec])"
   ]
  },
  {
   "cell_type": "code",
   "execution_count": 8,
   "metadata": {},
   "outputs": [
    {
     "data": {
      "text/plain": [
       "0.0"
      ]
     },
     "execution_count": 8,
     "metadata": {},
     "output_type": "execute_result"
    }
   ],
   "source": [
    "pset.area()"
   ]
  },
  {
   "cell_type": "code",
   "execution_count": 9,
   "metadata": {
    "collapsed": true
   },
   "outputs": [],
   "source": [
    "origin = (0,0)"
   ]
  },
  {
   "cell_type": "code",
   "execution_count": 10,
   "metadata": {},
   "outputs": [
    {
     "name": "stdout",
     "output_type": "stream",
     "text": [
      "(0, 0)\n"
     ]
    }
   ],
   "source": [
    "print(origin)"
   ]
  },
  {
   "cell_type": "code",
   "execution_count": 11,
   "metadata": {
    "collapsed": true
   },
   "outputs": [],
   "source": [
    "txt = cad.Text('name', 12, (0, 0), layer=0)"
   ]
  },
  {
   "cell_type": "code",
   "execution_count": 12,
   "metadata": {},
   "outputs": [
    {
     "ename": "AttributeError",
     "evalue": "'numpy.ndarray' object has no attribute 'get_bounding_box'",
     "output_type": "error",
     "traceback": [
      "\u001b[1;31m---------------------------------------------------------------------------\u001b[0m",
      "\u001b[1;31mAttributeError\u001b[0m                            Traceback (most recent call last)",
      "\u001b[1;32m<ipython-input-12-72b2c9671e71>\u001b[0m in \u001b[0;36m<module>\u001b[1;34m()\u001b[0m\n\u001b[1;32m----> 1\u001b[1;33m \u001b[0mpset2\u001b[0m \u001b[1;33m=\u001b[0m \u001b[0mcad\u001b[0m\u001b[1;33m.\u001b[0m\u001b[0mPolygon\u001b[0m\u001b[1;33m(\u001b[0m\u001b[0mtxt\u001b[0m\u001b[1;33m.\u001b[0m\u001b[0mpolygons\u001b[0m\u001b[1;33m[\u001b[0m\u001b[1;36m0\u001b[0m\u001b[1;33m]\u001b[0m\u001b[1;33m.\u001b[0m\u001b[0mget_bounding_box\u001b[0m\u001b[1;33m(\u001b[0m\u001b[1;33m)\u001b[0m\u001b[1;33m)\u001b[0m\u001b[1;33m\u001b[0m\u001b[0m\n\u001b[0m",
      "\u001b[1;31mAttributeError\u001b[0m: 'numpy.ndarray' object has no attribute 'get_bounding_box'"
     ]
    }
   ],
   "source": [
    "pset2 = cad.Polygon(txt.polygons[0].get_bounding_box())"
   ]
  },
  {
   "cell_type": "code",
   "execution_count": 13,
   "metadata": {
    "collapsed": true
   },
   "outputs": [],
   "source": [
    "name = cad.Cell('name')"
   ]
  },
  {
   "cell_type": "code",
   "execution_count": 14,
   "metadata": {},
   "outputs": [
    {
     "data": {
      "text/plain": [
       "<gdspy.Cell at 0x8fb3948>"
      ]
     },
     "execution_count": 14,
     "metadata": {},
     "output_type": "execute_result"
    }
   ],
   "source": [
    "name.add(txt)"
   ]
  },
  {
   "cell_type": "code",
   "execution_count": 15,
   "metadata": {},
   "outputs": [
    {
     "data": {
      "text/plain": [
       "array([[  0.        ,   2.66666667],\n",
       "       [ 38.66666667,   9.33333333]])"
      ]
     },
     "execution_count": 15,
     "metadata": {},
     "output_type": "execute_result"
    }
   ],
   "source": [
    "name.get_bounding_box()"
   ]
  },
  {
   "cell_type": "code",
   "execution_count": 16,
   "metadata": {
    "collapsed": true
   },
   "outputs": [],
   "source": [
    "etches = gdspy.GdsLibrary('etchwindows')\n",
    "# contacts = gdspy.GdsLibrary('Contacts')\n",
    "gdspy.current_library = etches"
   ]
  },
  {
   "cell_type": "code",
   "execution_count": 17,
   "metadata": {
    "scrolled": true
   },
   "outputs": [
    {
     "data": {
      "text/plain": [
       "<gdspy.GdsLibrary at 0x8fb86d8>"
      ]
     },
     "execution_count": 17,
     "metadata": {},
     "output_type": "execute_result"
    }
   ],
   "source": [
    "lattice_constant = 5\n",
    "rows = 5\n",
    "columns = 10\n",
    "hole = cad.Round((0,0), 1)\n",
    "hole_cell = cad.Cell('Hole')\n",
    "hole_cell.add(pset)\n",
    "# hole_ref = cad.Cell('Reference')\n",
    "# hole_array = cad.CellArray(hole_cell, \n",
    "#               rows,\n",
    "#               columns, \n",
    "#               spacing=(lattice_constant,np.sqrt(3)*lattice_constant), \n",
    "#               origin=(10,10),\n",
    "#                  rotation = 0)\n",
    "# hole_array.rotation = 45\n",
    "# hole_ref.add(hole_array)\n",
    "\n",
    "# etches.add(hole_ref)\n",
    "etches.add(hole_cell)"
   ]
  },
  {
   "cell_type": "code",
   "execution_count": 18,
   "metadata": {},
   "outputs": [
    {
     "ename": "NameError",
     "evalue": "name 'hole_ref' is not defined",
     "output_type": "error",
     "traceback": [
      "\u001b[1;31m---------------------------------------------------------------------------\u001b[0m",
      "\u001b[1;31mNameError\u001b[0m                                 Traceback (most recent call last)",
      "\u001b[1;32m<ipython-input-18-7646132639e2>\u001b[0m in \u001b[0;36m<module>\u001b[1;34m()\u001b[0m\n\u001b[1;32m----> 1\u001b[1;33m \u001b[0mprint\u001b[0m\u001b[1;33m(\u001b[0m\u001b[0mhole_ref\u001b[0m\u001b[1;33m.\u001b[0m\u001b[0melements\u001b[0m\u001b[1;33m)\u001b[0m\u001b[1;33m\u001b[0m\u001b[0m\n\u001b[0m",
      "\u001b[1;31mNameError\u001b[0m: name 'hole_ref' is not defined"
     ]
    }
   ],
   "source": [
    "print(hole_ref.elements)"
   ]
  },
  {
   "cell_type": "code",
   "execution_count": 19,
   "metadata": {},
   "outputs": [
    {
     "data": {
      "text/plain": [
       "<gdspy.viewer.LayoutViewer object .!layoutviewer>"
      ]
     },
     "execution_count": 19,
     "metadata": {},
     "output_type": "execute_result"
    }
   ],
   "source": [
    "gdspy.LayoutViewer(library = etches,cells = hole_cell,pattern={'default': 8},\n",
    "                    background='#FFFFFF')"
   ]
  },
  {
   "cell_type": "code",
   "execution_count": 20,
   "metadata": {
    "collapsed": true
   },
   "outputs": [],
   "source": [
    "lattice_constant = None"
   ]
  },
  {
   "cell_type": "code",
   "execution_count": 21,
   "metadata": {},
   "outputs": [
    {
     "name": "stdout",
     "output_type": "stream",
     "text": [
      "0\n"
     ]
    }
   ],
   "source": [
    "lattice_constant = 0 if lattice_constant is None else lattice_constant\n",
    "print(lattice_constant)"
   ]
  },
  {
   "cell_type": "code",
   "execution_count": 22,
   "metadata": {},
   "outputs": [
    {
     "name": "stdout",
     "output_type": "stream",
     "text": [
      "[[  1.05000000e+02   0.00000000e+00]\n",
      " [  1.05000000e+02   1.01385305e-02]\n",
      " [  1.04999998e+02   2.02770609e-02]\n",
      " [  1.04999996e+02   3.04155911e-02]\n",
      " [  1.04999992e+02   4.05541210e-02]\n",
      " [  1.04999988e+02   5.06926506e-02]\n",
      " [  1.04999982e+02   6.08311796e-02]\n",
      " [  1.04999976e+02   7.09697082e-02]\n",
      " [  1.04999969e+02   8.11082360e-02]\n",
      " [  1.04999960e+02   9.12467631e-02]\n",
      " [  1.04999951e+02   1.01385289e-01]\n",
      " [  1.04999941e+02   1.11523815e-01]\n",
      " [  1.04999930e+02   1.21662339e-01]\n",
      " [  1.04999917e+02   1.31800862e-01]\n",
      " [  1.04999904e+02   1.41939384e-01]\n",
      " [  1.04999890e+02   1.52077904e-01]\n",
      " [  1.04999875e+02   1.62216424e-01]\n",
      " [  1.04999859e+02   1.72354941e-01]\n",
      " [  1.04999841e+02   1.82493457e-01]\n",
      " [  1.04999823e+02   1.92631972e-01]\n",
      " [  1.04999804e+02   2.02770484e-01]\n",
      " [  1.04999784e+02   2.12908995e-01]\n",
      " [  1.04999763e+02   2.23047503e-01]\n",
      " [  1.04999741e+02   2.33186010e-01]\n",
      " [  1.04999718e+02   2.43324514e-01]\n",
      " [  1.04999694e+02   2.53463017e-01]\n",
      " [  1.04999669e+02   2.63601516e-01]\n",
      " [  1.04999643e+02   2.73740014e-01]\n",
      " [  1.04999616e+02   2.83878508e-01]\n",
      " [  1.04999588e+02   2.94017001e-01]\n",
      " [  1.04999559e+02   3.04155490e-01]\n",
      " [  1.04999530e+02   3.14293976e-01]\n",
      " [  1.04999499e+02   3.24432460e-01]\n",
      " [  1.04999467e+02   3.34570941e-01]\n",
      " [  1.04999434e+02   3.44709418e-01]\n",
      " [  1.04999400e+02   3.54847892e-01]\n",
      " [  1.04999366e+02   3.64986363e-01]\n",
      " [  1.04999330e+02   3.75124831e-01]\n",
      " [  1.04999293e+02   3.85263295e-01]\n",
      " [  1.04999256e+02   3.95401755e-01]\n",
      " [  1.04999217e+02   4.05540212e-01]\n",
      " [  1.04999177e+02   4.15678665e-01]\n",
      " [  1.04999137e+02   4.25817114e-01]\n",
      " [  1.04999095e+02   4.35955559e-01]\n",
      " [  1.04999052e+02   4.46094000e-01]\n",
      " [  1.04999009e+02   4.56232437e-01]\n",
      " [  1.04998964e+02   4.66370870e-01]\n",
      " [  1.04998919e+02   4.76509298e-01]\n",
      " [  1.04998872e+02   4.86647722e-01]\n",
      " [  1.04998825e+02   4.96786141e-01]\n",
      " [  1.04998776e+02   5.06924556e-01]\n",
      " [  1.04998727e+02   5.17062966e-01]\n",
      " [  1.04998676e+02   5.27201371e-01]\n",
      " [  1.04998625e+02   5.37339772e-01]\n",
      " [  1.04998573e+02   5.47478167e-01]\n",
      " [  1.04998519e+02   5.57616557e-01]\n",
      " [  1.04998465e+02   5.67754942e-01]\n",
      " [  1.04998410e+02   5.77893321e-01]\n",
      " [  1.04998353e+02   5.88031696e-01]\n",
      " [  1.04998296e+02   5.98170064e-01]\n",
      " [  1.04998238e+02   6.08308428e-01]\n",
      " [  1.04998179e+02   6.18446785e-01]\n",
      " [  1.04998118e+02   6.28585137e-01]\n",
      " [  1.04998057e+02   6.38723483e-01]\n",
      " [  1.04997995e+02   6.48861823e-01]\n",
      " [  1.04997932e+02   6.59000157e-01]\n",
      " [  1.04997868e+02   6.69138484e-01]\n",
      " [  1.04997803e+02   6.79276806e-01]\n",
      " [  1.04997737e+02   6.89415121e-01]\n",
      " [  1.04997670e+02   6.99553430e-01]\n",
      " [  1.04997602e+02   7.09691732e-01]\n",
      " [  1.04997533e+02   7.19830028e-01]\n",
      " [  1.04997463e+02   7.29968316e-01]\n",
      " [  1.04997392e+02   7.40106599e-01]\n",
      " [  1.04997320e+02   7.50244874e-01]\n",
      " [  1.04997247e+02   7.60383142e-01]\n",
      " [  1.04997173e+02   7.70521403e-01]\n",
      " [  1.04997098e+02   7.80659657e-01]\n",
      " [  1.04997022e+02   7.90797904e-01]\n",
      " [  1.04996945e+02   8.00936143e-01]\n",
      " [  1.04996867e+02   8.11074375e-01]\n",
      " [  1.04996789e+02   8.21212599e-01]\n",
      " [  1.04996709e+02   8.31350815e-01]\n",
      " [  1.04996628e+02   8.41489024e-01]\n",
      " [  1.04996546e+02   8.51627225e-01]\n",
      " [  1.04996464e+02   8.61765418e-01]\n",
      " [  1.04996380e+02   8.71903603e-01]\n",
      " [  1.04996295e+02   8.82041780e-01]\n",
      " [  1.04996210e+02   8.92179949e-01]\n",
      " [  1.04996123e+02   9.02318109e-01]\n",
      " [  1.04996035e+02   9.12456261e-01]\n",
      " [  1.04995947e+02   9.22594404e-01]\n",
      " [  1.04995857e+02   9.32732539e-01]\n",
      " [  1.04995767e+02   9.42870665e-01]\n",
      " [  1.04995675e+02   9.53008783e-01]\n",
      " [  1.04995583e+02   9.63146891e-01]\n",
      " [  1.04995489e+02   9.73284991e-01]\n",
      " [  1.04995395e+02   9.83423081e-01]\n",
      " [  1.04995299e+02   9.93561162e-01]\n",
      " [  9.49957468e+01   8.98936290e-01]\n",
      " [  9.49958332e+01   8.89763740e-01]\n",
      " [  9.49959186e+01   8.80591182e-01]\n",
      " [  9.49960032e+01   8.71418616e-01]\n",
      " [  9.49960869e+01   8.62246041e-01]\n",
      " [  9.49961697e+01   8.53073459e-01]\n",
      " [  9.49962517e+01   8.43900869e-01]\n",
      " [  9.49963327e+01   8.34728271e-01]\n",
      " [  9.49964129e+01   8.25555665e-01]\n",
      " [  9.49964921e+01   8.16383051e-01]\n",
      " [  9.49965705e+01   8.07210430e-01]\n",
      " [  9.49966480e+01   7.98037801e-01]\n",
      " [  9.49967246e+01   7.88865165e-01]\n",
      " [  9.49968004e+01   7.79692521e-01]\n",
      " [  9.49968752e+01   7.70519870e-01]\n",
      " [  9.49969492e+01   7.61347212e-01]\n",
      " [  9.49970222e+01   7.52174547e-01]\n",
      " [  9.49970944e+01   7.43001875e-01]\n",
      " [  9.49971657e+01   7.33829196e-01]\n",
      " [  9.49972361e+01   7.24656510e-01]\n",
      " [  9.49973057e+01   7.15483817e-01]\n",
      " [  9.49973743e+01   7.06311118e-01]\n",
      " [  9.49974421e+01   6.97138412e-01]\n",
      " [  9.49975089e+01   6.87965700e-01]\n",
      " [  9.49975749e+01   6.78792981e-01]\n",
      " [  9.49976400e+01   6.69620256e-01]\n",
      " [  9.49977042e+01   6.60447524e-01]\n",
      " [  9.49977676e+01   6.51274787e-01]\n",
      " [  9.49978300e+01   6.42102043e-01]\n",
      " [  9.49978916e+01   6.32929294e-01]\n",
      " [  9.49979522e+01   6.23756538e-01]\n",
      " [  9.49980120e+01   6.14583777e-01]\n",
      " [  9.49980709e+01   6.05411010e-01]\n",
      " [  9.49981289e+01   5.96238237e-01]\n",
      " [  9.49981861e+01   5.87065459e-01]\n",
      " [  9.49982423e+01   5.77892675e-01]\n",
      " [  9.49982977e+01   5.68719886e-01]\n",
      " [  9.49983521e+01   5.59547091e-01]\n",
      " [  9.49984057e+01   5.50374292e-01]\n",
      " [  9.49984584e+01   5.41201487e-01]\n",
      " [  9.49985102e+01   5.32028677e-01]\n",
      " [  9.49985612e+01   5.22855862e-01]\n",
      " [  9.49986112e+01   5.13683043e-01]\n",
      " [  9.49986604e+01   5.04510218e-01]\n",
      " [  9.49987086e+01   4.95337389e-01]\n",
      " [  9.49987560e+01   4.86164555e-01]\n",
      " [  9.49988025e+01   4.76991717e-01]\n",
      " [  9.49988481e+01   4.67818874e-01]\n",
      " [  9.49988929e+01   4.58646027e-01]\n",
      " [  9.49989367e+01   4.49473176e-01]\n",
      " [  9.49989797e+01   4.40300320e-01]\n",
      " [  9.49990217e+01   4.31127460e-01]\n",
      " [  9.49990629e+01   4.21954597e-01]\n",
      " [  9.49991032e+01   4.12781729e-01]\n",
      " [  9.49991426e+01   4.03608857e-01]\n",
      " [  9.49991812e+01   3.94435982e-01]\n",
      " [  9.49992188e+01   3.85263103e-01]\n",
      " [  9.49992556e+01   3.76090221e-01]\n",
      " [  9.49992914e+01   3.66917335e-01]\n",
      " [  9.49993264e+01   3.57744445e-01]\n",
      " [  9.49993605e+01   3.48571552e-01]\n",
      " [  9.49993937e+01   3.39398656e-01]\n",
      " [  9.49994261e+01   3.30225757e-01]\n",
      " [  9.49994575e+01   3.21052855e-01]\n",
      " [  9.49994881e+01   3.11879950e-01]\n",
      " [  9.49995177e+01   3.02707042e-01]\n",
      " [  9.49995465e+01   2.93534131e-01]\n",
      " [  9.49995744e+01   2.84361217e-01]\n",
      " [  9.49996014e+01   2.75188300e-01]\n",
      " [  9.49996276e+01   2.66015381e-01]\n",
      " [  9.49996528e+01   2.56842460e-01]\n",
      " [  9.49996772e+01   2.47669536e-01]\n",
      " [  9.49997006e+01   2.38496610e-01]\n",
      " [  9.49997232e+01   2.29323682e-01]\n",
      " [  9.49997449e+01   2.20150751e-01]\n",
      " [  9.49997657e+01   2.10977819e-01]\n",
      " [  9.49997857e+01   2.01804884e-01]\n",
      " [  9.49998047e+01   1.92631948e-01]\n",
      " [  9.49998229e+01   1.83459009e-01]\n",
      " [  9.49998401e+01   1.74286070e-01]\n",
      " [  9.49998565e+01   1.65113128e-01]\n",
      " [  9.49998720e+01   1.55940185e-01]\n",
      " [  9.49998866e+01   1.46767240e-01]\n",
      " [  9.49999004e+01   1.37594295e-01]\n",
      " [  9.49999132e+01   1.28421347e-01]\n",
      " [  9.49999252e+01   1.19248399e-01]\n",
      " [  9.49999362e+01   1.10075449e-01]\n",
      " [  9.49999464e+01   1.00902499e-01]\n",
      " [  9.49999557e+01   9.17295475e-02]\n",
      " [  9.49999641e+01   8.25565952e-02]\n",
      " [  9.49999717e+01   7.33836421e-02]\n",
      " [  9.49999783e+01   6.42106883e-02]\n",
      " [  9.49999841e+01   5.50377340e-02]\n",
      " [  9.49999889e+01   4.58647791e-02]\n",
      " [  9.49999929e+01   3.66918238e-02]\n",
      " [  9.49999960e+01   2.75188681e-02]\n",
      " [  9.49999982e+01   1.83459122e-02]\n",
      " [  9.49999996e+01   9.17295616e-03]\n",
      " [  9.50000000e+01   0.00000000e+00]]\n"
     ]
    }
   ],
   "source": [
    "etches = gdspy.GdsLibrary('etchwindows')\n",
    "# contacts = gdspy.GdsLibrary('Contacts')\n",
    "gdspy.current_library = etches\n",
    "\n",
    "hole = gdspy.Round((0,0), 1)\n",
    "hole_cell = gdspy.Cell('Hole')\n",
    "\n",
    "rec = gdspy.Rectangle((0,0),(20,20))\n",
    "rec2 = gdspy.Rectangle((20,20),(40,40))\n",
    "prec = rec.polygons[0]\n",
    "prec2 = rec2.polygons[0]\n",
    "pset = gdspy.PolygonSet([prec,prec2])\n",
    "hole_cell.add(pset)\n",
    "curve_radius = 100\n",
    "grounding_via_skirt_width = 10\n",
    "grounding_via_skirt_section = gdspy.Round((0, 0),\n",
    "                                              curve_radius+grounding_via_skirt_width/2.,\n",
    "                                              inner_radius = curve_radius-grounding_via_skirt_width/2.,\n",
    "                                              initial_angle=0,\n",
    "                                              \n",
    "                                              final_angle=np.pi/2)\n",
    "# number_of_points = 199, \n",
    "print(grounding_via_skirt_section.polygons[0])\n",
    "# hole_cell.add(grounding_via_skirt_section)\n",
    "hole_cell.add(grounding_via_skirt_section)\n",
    "etches.add(hole_cell)\n",
    "etches.write_gds('File_name_gds.gds')"
   ]
  },
  {
   "cell_type": "code",
   "execution_count": 23,
   "metadata": {
    "collapsed": true
   },
   "outputs": [],
   "source": [
    "a = np.array([range(5)])\n",
    "b = np.array([range(6)])"
   ]
  },
  {
   "cell_type": "code",
   "execution_count": 24,
   "metadata": {},
   "outputs": [
    {
     "data": {
      "text/plain": [
       "array([[0, 1, 2, 3, 4, 0, 1, 2, 3, 4, 5]])"
      ]
     },
     "execution_count": 24,
     "metadata": {},
     "output_type": "execute_result"
    }
   ],
   "source": [
    "np.hstack([a,b])"
   ]
  },
  {
   "cell_type": "code",
   "execution_count": 25,
   "metadata": {},
   "outputs": [
    {
     "data": {
      "text/plain": [
       "0.33333333333333337"
      ]
     },
     "execution_count": 25,
     "metadata": {},
     "output_type": "execute_result"
    }
   ],
   "source": [
    "(np.pi*5/6)%(np.pi/2)/np.pi"
   ]
  },
  {
   "cell_type": "markdown",
   "metadata": {},
   "source": [
    "## Import simulation data"
   ]
  },
  {
   "cell_type": "code",
   "execution_count": 6,
   "metadata": {},
   "outputs": [
    {
     "name": "stdout",
     "output_type": "stream",
     "text": [
      "['Elbow_coupler_6um_TS_FL\\\\CPW_gap_coupler_3port_1um_FL_TS_6um_finer_TS_6um_param1.s3p', 'Elbow_coupler_6um_TS_FL\\\\CPW_gap_coupler_3port_1um_FL_TS_6um_finer_TS_6um_param2.s3p', 'Elbow_coupler_6um_TS_FL\\\\CPW_gap_coupler_3port_1um_FL_TS_6um_finer_TS_6um_param3.s3p', 'Elbow_coupler_6um_TS_FL\\\\CPW_gap_coupler_3port_1um_FL_TS_6um_finer_TS_6um_param4.s3p', 'Elbow_coupler_6um_TS_FL\\\\CPW_gap_coupler_3port_1um_FL_TS_6um_finer_TS_6um_param5.s3p', 'Elbow_coupler_6um_TS_FL\\\\CPW_gap_coupler_3port_1um_FL_TS_6um_finer_TS_6um_param6.s3p', 'Elbow_coupler_6um_TS_FL\\\\CPW_gap_coupler_3port_1um_FL_TS_6um_finer_TS_6um_param7.s3p']\n"
     ]
    }
   ],
   "source": [
    "Sfiles = glob.glob('Elbow_coupler_6um_TS_FL/*.s3p')\n",
    "print(Sfiles)"
   ]
  },
  {
   "cell_type": "code",
   "execution_count": 7,
   "metadata": {
    "collapsed": true
   },
   "outputs": [],
   "source": [
    "import skrf as rf\n",
    "import glob\n",
    "Sfiles = glob.glob('Elbow_coupler_6um_TS_FL/*.s3p')\n",
    "S13 = []\n",
    "L_c = np.arange(50,651,100)\n",
    "lc = []\n",
    "freqs = []\n",
    "ii = 0\n",
    "for Sfile in Sfiles:\n",
    "    ntwk = rf.Network(Sfile)\n",
    "    freqs.extend(ntwk.f)\n",
    "    temp = ntwk.s13.s_mag.flatten()\n",
    "    S13.extend(temp)\n",
    "    lc.extend(np.ones(len(temp))*L_c[ii])\n",
    "    ii+=1\n",
    "\n",
    "fit_yvals = {'data':np.array(S13)}\n",
    "fit_xvals = {'f':np.array(freqs),\n",
    "             'lc':np.array(lc)}\n",
    "# ntwk.plot_s_smith()\n",
    "# s13 = ntwk.s_mag\n",
    "# print(s13)"
   ]
  },
  {
   "cell_type": "code",
   "execution_count": 8,
   "metadata": {},
   "outputs": [
    {
     "ename": "ValueError",
     "evalue": "Wrong number of columns at line 27",
     "output_type": "error",
     "traceback": [
      "\u001b[1;31m---------------------------------------------------------------------------\u001b[0m",
      "\u001b[1;31mValueError\u001b[0m                                Traceback (most recent call last)",
      "\u001b[1;32m<ipython-input-8-7cd5f7e3dec4>\u001b[0m in \u001b[0;36m<module>\u001b[1;34m()\u001b[0m\n\u001b[1;32m----> 1\u001b[1;33m \u001b[0mnp\u001b[0m\u001b[1;33m.\u001b[0m\u001b[0mloadtxt\u001b[0m\u001b[1;33m(\u001b[0m\u001b[1;34m'TStavenga/CPW_gap_coupler_3port_1um_FL_TS_6um_TS_6um_param1.s3p'\u001b[0m\u001b[1;33m,\u001b[0m\u001b[0mskiprows\u001b[0m\u001b[1;33m=\u001b[0m\u001b[1;36m25\u001b[0m\u001b[1;33m,\u001b[0m\u001b[0mcomments\u001b[0m\u001b[1;33m=\u001b[0m\u001b[1;33m[\u001b[0m\u001b[1;34m'#'\u001b[0m\u001b[1;33m,\u001b[0m\u001b[1;34m'!'\u001b[0m\u001b[1;33m]\u001b[0m\u001b[1;33m)\u001b[0m\u001b[1;33m\u001b[0m\u001b[0m\n\u001b[0m",
      "\u001b[1;32mC:\\ProgramData\\Anaconda3\\lib\\site-packages\\numpy\\lib\\npyio.py\u001b[0m in \u001b[0;36mloadtxt\u001b[1;34m(fname, dtype, comments, delimiter, converters, skiprows, usecols, unpack, ndmin)\u001b[0m\n\u001b[0;32m   1019\u001b[0m                 \u001b[0mline_num\u001b[0m \u001b[1;33m=\u001b[0m \u001b[0mi\u001b[0m \u001b[1;33m+\u001b[0m \u001b[0mskiprows\u001b[0m \u001b[1;33m+\u001b[0m \u001b[1;36m1\u001b[0m\u001b[1;33m\u001b[0m\u001b[0m\n\u001b[0;32m   1020\u001b[0m                 raise ValueError(\"Wrong number of columns at line %d\"\n\u001b[1;32m-> 1021\u001b[1;33m                                  % line_num)\n\u001b[0m\u001b[0;32m   1022\u001b[0m \u001b[1;33m\u001b[0m\u001b[0m\n\u001b[0;32m   1023\u001b[0m             \u001b[1;31m# Convert each value according to its column and store\u001b[0m\u001b[1;33m\u001b[0m\u001b[1;33m\u001b[0m\u001b[0m\n",
      "\u001b[1;31mValueError\u001b[0m: Wrong number of columns at line 27"
     ]
    }
   ],
   "source": [
    "np.loadtxt('TStavenga/CPW_gap_coupler_3port_1um_FL_TS_6um_TS_6um_param1.s3p',skiprows=25,comments=['#','!'])"
   ]
  },
  {
   "cell_type": "code",
   "execution_count": 9,
   "metadata": {},
   "outputs": [
    {
     "name": "stdout",
     "output_type": "stream",
     "text": [
      "[ 50  75 100 125 150 175 200 225 250 275 300 325 350 375 400 425 450 475\n",
      " 500 525 550 575 600]\n",
      "23\n"
     ]
    }
   ],
   "source": [
    "L_c = np.arange(50,601,25)\n",
    "print(L_c)\n",
    "print(len(L_c))"
   ]
  },
  {
   "cell_type": "code",
   "execution_count": 32,
   "metadata": {
    "collapsed": true
   },
   "outputs": [],
   "source": [
    "\n",
    "S13 = []\n",
    "\n",
    "points = [{'L_c':50,'f':5.1e9,'S13':0.0015},\n",
    "          {'L_c':50,'f':6.5e9,'S13':0.0025},\n",
    "          {'L_c':50,'f':4e9,'S13':0.0015},\n",
    "          {'L_c':100,'f':4e9,'S13':0.0035},\n",
    "          {'L_c':100,'f':5.1e9,'S13':0.0045},\n",
    "          {'L_c':100,'f':6.5e9,'S13':0.00505},\n",
    "          {'L_c':150,'f':4e9,'S13':0.00505},\n",
    "          {'L_c':150,'f':5.1e9,'S13':0.0052},\n",
    "          {'L_c':150,'f':6.5e9,'S13':0.0085}]\n",
    "\n",
    "\n",
    "points4GHz = []\n",
    "ii = 0\n",
    "for p in np.linspace(0.0015,0.0225,23):\n",
    "    points4GHz.append({'L_c':L_c[ii],'f':4.0e9,'S13':p})\n",
    "    ii+=1\n",
    "\n",
    "    \n",
    "points6GHz5 = []\n",
    "ii = 0\n",
    "for p in np.linspace(0.0025,0.036,23):\n",
    "    points6GHz5.append({'L_c':L_c[ii],'f':6.5e9,'S13':p})\n",
    "    ii+=1\n",
    "    \n",
    "    \n",
    "points9GHz = []\n",
    "ii = 0\n",
    "for p in np.linspace(0.004,0.05,23):\n",
    "    points9GHz.append({'L_c':L_c[ii],'f':9.0e9,'S13':p})\n",
    "    ii+=1\n",
    "points.extend(points4GHz)\n",
    "points.extend(points6GHz5)\n",
    "points.extend(points9GHz)\n",
    "# print(points)    "
   ]
  },
  {
   "cell_type": "code",
   "execution_count": 10,
   "metadata": {},
   "outputs": [
    {
     "ename": "NameError",
     "evalue": "name 'points' is not defined",
     "output_type": "error",
     "traceback": [
      "\u001b[1;31m---------------------------------------------------------------------------\u001b[0m",
      "\u001b[1;31mNameError\u001b[0m                                 Traceback (most recent call last)",
      "\u001b[1;32m<ipython-input-10-0a2552a4578b>\u001b[0m in \u001b[0;36m<module>\u001b[1;34m()\u001b[0m\n\u001b[1;32m----> 1\u001b[1;33m \u001b[0mfit_yvals\u001b[0m \u001b[1;33m=\u001b[0m \u001b[1;33m{\u001b[0m\u001b[1;34m'data'\u001b[0m\u001b[1;33m:\u001b[0m\u001b[0mnp\u001b[0m\u001b[1;33m.\u001b[0m\u001b[0marray\u001b[0m\u001b[1;33m(\u001b[0m\u001b[1;33m[\u001b[0m\u001b[0mt\u001b[0m\u001b[1;33m[\u001b[0m\u001b[1;34m'S13'\u001b[0m\u001b[1;33m]\u001b[0m \u001b[1;32mfor\u001b[0m \u001b[0mt\u001b[0m \u001b[1;32min\u001b[0m \u001b[0mpoints\u001b[0m\u001b[1;33m]\u001b[0m\u001b[1;33m)\u001b[0m\u001b[1;33m}\u001b[0m\u001b[1;33m\u001b[0m\u001b[0m\n\u001b[0m\u001b[0;32m      2\u001b[0m fit_xvals = {'f':np.array([t['f'] for t in points]),\n\u001b[0;32m      3\u001b[0m              'lc':np.array([t['L_c'] for t in points])}\n\u001b[0;32m      4\u001b[0m \u001b[1;31m# print(fit_yvals)\u001b[0m\u001b[1;33m\u001b[0m\u001b[1;33m\u001b[0m\u001b[0m\n\u001b[0;32m      5\u001b[0m \u001b[1;31m# print(fit_xvals)\u001b[0m\u001b[1;33m\u001b[0m\u001b[1;33m\u001b[0m\u001b[0m\n",
      "\u001b[1;31mNameError\u001b[0m: name 'points' is not defined"
     ]
    }
   ],
   "source": [
    "fit_yvals = {'data':np.array([t['S13'] for t in points])}\n",
    "fit_xvals = {'f':np.array([t['f'] for t in points]),\n",
    "             'lc':np.array([t['L_c'] for t in points])}\n",
    "# print(fit_yvals)\n",
    "# print(fit_xvals)"
   ]
  },
  {
   "cell_type": "markdown",
   "metadata": {},
   "source": [
    "## Plotting the data from the simulation"
   ]
  },
  {
   "cell_type": "code",
   "execution_count": 11,
   "metadata": {},
   "outputs": [
    {
     "ename": "KeyError",
     "evalue": "650.0",
     "output_type": "error",
     "traceback": [
      "\u001b[1;31m---------------------------------------------------------------------------\u001b[0m",
      "\u001b[1;31mKeyError\u001b[0m                                  Traceback (most recent call last)",
      "\u001b[1;32m<ipython-input-11-c4d6373014e4>\u001b[0m in \u001b[0;36m<module>\u001b[1;34m()\u001b[0m\n\u001b[0;32m     10\u001b[0m \u001b[1;33m\u001b[0m\u001b[0m\n\u001b[0;32m     11\u001b[0m \u001b[1;32mfor\u001b[0m \u001b[0mjj\u001b[0m \u001b[1;32min\u001b[0m \u001b[0mrange\u001b[0m\u001b[1;33m(\u001b[0m\u001b[0mlen\u001b[0m\u001b[1;33m(\u001b[0m\u001b[0mfit_xvals\u001b[0m\u001b[1;33m[\u001b[0m\u001b[1;34m'f'\u001b[0m\u001b[1;33m]\u001b[0m\u001b[1;33m)\u001b[0m\u001b[1;33m)\u001b[0m\u001b[1;33m:\u001b[0m\u001b[1;33m\u001b[0m\u001b[0m\n\u001b[1;32m---> 12\u001b[1;33m     \u001b[0max\u001b[0m\u001b[1;33m.\u001b[0m\u001b[0mplot\u001b[0m\u001b[1;33m(\u001b[0m\u001b[0mfit_xvals\u001b[0m\u001b[1;33m[\u001b[0m\u001b[1;34m'f'\u001b[0m\u001b[1;33m]\u001b[0m\u001b[1;33m[\u001b[0m\u001b[0mjj\u001b[0m\u001b[1;33m]\u001b[0m\u001b[1;33m,\u001b[0m\u001b[0mfit_yvals\u001b[0m\u001b[1;33m[\u001b[0m\u001b[1;34m'data'\u001b[0m\u001b[1;33m]\u001b[0m\u001b[1;33m[\u001b[0m\u001b[0mjj\u001b[0m\u001b[1;33m]\u001b[0m\u001b[1;33m,\u001b[0m\u001b[0mcolor\u001b[0m\u001b[1;33m=\u001b[0m\u001b[0mColordict\u001b[0m\u001b[1;33m[\u001b[0m\u001b[0mfit_xvals\u001b[0m\u001b[1;33m[\u001b[0m\u001b[1;34m'lc'\u001b[0m\u001b[1;33m]\u001b[0m\u001b[1;33m[\u001b[0m\u001b[0mjj\u001b[0m\u001b[1;33m]\u001b[0m\u001b[1;33m]\u001b[0m\u001b[1;33m,\u001b[0m \u001b[0mmarker\u001b[0m\u001b[1;33m=\u001b[0m\u001b[1;34m'o'\u001b[0m\u001b[1;33m)\u001b[0m\u001b[1;33m\u001b[0m\u001b[0m\n\u001b[0m",
      "\u001b[1;31mKeyError\u001b[0m: 650.0"
     ]
    },
    {
     "data": {
      "image/png": "[encoded data removed]",
      "text/plain": [
       "<matplotlib.figure.Figure at 0xadd9080>"
      ]
     },
     "metadata": {},
     "output_type": "display_data"
    }
   ],
   "source": [
    "import matplotlib.cm as cm\n",
    "\n",
    "x = np.arange(10)\n",
    "ys = [i+x+(i*x)**2 for i in range(10)]\n",
    "\n",
    "colors = cm.rainbow(np.linspace(0, 1, len(L_c)))\n",
    "Colordict = {L_c[ii]:colors[ii] for ii in range(len(L_c))}\n",
    "\n",
    "fig,ax = plt.subplots(1,1,figsize=(8,6))\n",
    "\n",
    "for jj in range(len(fit_xvals['f'])):\n",
    "    ax.plot(fit_xvals['f'][jj],fit_yvals['data'][jj],color=Colordict[fit_xvals['lc'][jj]], marker='o')"
   ]
  },
  {
   "cell_type": "code",
   "execution_count": 12,
   "metadata": {
    "collapsed": true
   },
   "outputs": [],
   "source": [
    "import lmfit\n",
    "def S13(f,lc,A,B,C,D):\n",
    "    return A*f*lc+B*lc+C*f+D\n",
    "\n",
    "def res_fcn(params,S13,x_vals,data):\n",
    "    cmp_values = S13(**x_vals, **params)\n",
    "    res = cmp_values-data['data']\n",
    "    return res\n",
    "guess_dict = {'A':{'value':4.01e-15},\n",
    "              'B':{'value':3.35e-8},\n",
    "              'C':{'value':2.60e10-14},\n",
    "              'D':{'value':4.55e-8}}\n",
    "# complex_guess = {key:{'value':val} for key,val in hanger_fit_res.best_values.items()}\n",
    "# complex_guess['f0'] = {'value':complex_guess['f0']['value']*1e9,\n",
    "#             'min':self.proc_data_dict['plot_frequency'][0],\n",
    "#             'max':self.proc_data_dict['plot_frequency'][-1]}\n",
    "# complex_guess['Q'] = {'value':complex_guess['Q']['value'],\n",
    "#             'min':complex_guess['Q']['value']*0.5,\n",
    "#             'max':complex_guess['Q']['value']*2.}\n",
    "\n",
    "params = lmfit.Parameters()\n",
    "for key, val in list(guess_dict.items()):\n",
    "# for key, val in guess_dict.items():\n",
    "    params.add(key)\n",
    "    for attr, attr_val in val.items():\n",
    "        setattr(params[key], attr, attr_val)\n",
    "fit_res = lmfit.minimize(fcn=res_fcn,\n",
    "                params=params,\n",
    "                args=(S13, fit_xvals, fit_yvals))"
   ]
  },
  {
   "cell_type": "code",
   "execution_count": 13,
   "metadata": {},
   "outputs": [
    {
     "name": "stdout",
     "output_type": "stream",
     "text": [
      "OrderedDict([('A', 8.738373136457076e-15), ('B', 5.0782161391245426e-07), ('C', -8.6652315432266653e-14), ('D', -9.3770393851303708e-05)])\n"
     ]
    }
   ],
   "source": [
    "print(fit_res.params.valuesdict())"
   ]
  },
  {
   "cell_type": "markdown",
   "metadata": {},
   "source": [
    "## Plotting the data and the fit"
   ]
  },
  {
   "cell_type": "code",
   "execution_count": 14,
   "metadata": {},
   "outputs": [
    {
     "ename": "KeyError",
     "evalue": "650.0",
     "output_type": "error",
     "traceback": [
      "\u001b[1;31m---------------------------------------------------------------------------\u001b[0m",
      "\u001b[1;31mKeyError\u001b[0m                                  Traceback (most recent call last)",
      "\u001b[1;32m<ipython-input-14-0a5a63aeb05e>\u001b[0m in \u001b[0;36m<module>\u001b[1;34m()\u001b[0m\n\u001b[0;32m     16\u001b[0m \u001b[1;33m\u001b[0m\u001b[0m\n\u001b[0;32m     17\u001b[0m \u001b[1;32mfor\u001b[0m \u001b[0mjj\u001b[0m \u001b[1;32min\u001b[0m \u001b[0mrange\u001b[0m\u001b[1;33m(\u001b[0m\u001b[0mlen\u001b[0m\u001b[1;33m(\u001b[0m\u001b[0mfit_xvals\u001b[0m\u001b[1;33m[\u001b[0m\u001b[1;34m'f'\u001b[0m\u001b[1;33m]\u001b[0m\u001b[1;33m)\u001b[0m\u001b[1;33m)\u001b[0m\u001b[1;33m:\u001b[0m\u001b[1;33m\u001b[0m\u001b[0m\n\u001b[1;32m---> 18\u001b[1;33m     \u001b[0max\u001b[0m\u001b[1;33m.\u001b[0m\u001b[0mplot\u001b[0m\u001b[1;33m(\u001b[0m\u001b[0mfit_xvals\u001b[0m\u001b[1;33m[\u001b[0m\u001b[1;34m'f'\u001b[0m\u001b[1;33m]\u001b[0m\u001b[1;33m[\u001b[0m\u001b[0mjj\u001b[0m\u001b[1;33m]\u001b[0m\u001b[1;33m,\u001b[0m\u001b[0mfit_yvals\u001b[0m\u001b[1;33m[\u001b[0m\u001b[1;34m'data'\u001b[0m\u001b[1;33m]\u001b[0m\u001b[1;33m[\u001b[0m\u001b[0mjj\u001b[0m\u001b[1;33m]\u001b[0m\u001b[1;33m,\u001b[0m\u001b[0mcolor\u001b[0m\u001b[1;33m=\u001b[0m\u001b[0mColordict\u001b[0m\u001b[1;33m[\u001b[0m\u001b[0mfit_xvals\u001b[0m\u001b[1;33m[\u001b[0m\u001b[1;34m'lc'\u001b[0m\u001b[1;33m]\u001b[0m\u001b[1;33m[\u001b[0m\u001b[0mjj\u001b[0m\u001b[1;33m]\u001b[0m\u001b[1;33m]\u001b[0m\u001b[1;33m,\u001b[0m \u001b[0mmarker\u001b[0m\u001b[1;33m=\u001b[0m\u001b[1;34m'o'\u001b[0m\u001b[1;33m)\u001b[0m\u001b[1;33m\u001b[0m\u001b[0m\n\u001b[0m\u001b[0;32m     19\u001b[0m \u001b[1;33m\u001b[0m\u001b[0m\n\u001b[0;32m     20\u001b[0m \u001b[1;32mfor\u001b[0m \u001b[0mlc\u001b[0m \u001b[1;32min\u001b[0m \u001b[0mL_c\u001b[0m\u001b[1;33m:\u001b[0m\u001b[1;33m\u001b[0m\u001b[0m\n",
      "\u001b[1;31mKeyError\u001b[0m: 650.0"
     ]
    },
    {
     "name": "stderr",
     "output_type": "stream",
     "text": [
      "C:\\ProgramData\\Anaconda3\\lib\\site-packages\\matplotlib\\font_manager.py:1316: UserWarning: findfont: Font family ['normal'] not found. Falling back to DejaVu Sans\n",
      "  (prop.get_family(), self.defaultFamily[fontext]))\n"
     ]
    },
    {
     "data": {
      "image/png": "[encoded data removed]",
      "text/plain": [
       "<matplotlib.figure.Figure at 0xde89518>"
      ]
     },
     "metadata": {},
     "output_type": "display_data"
    }
   ],
   "source": [
    "import matplotlib.cm as cm\n",
    "import matplotlib\n",
    "font_size = 24\n",
    "font = {'family' : 'normal',\n",
    "        'weight' : 'normal',\n",
    "        'size'   : font_size}\n",
    "matplotlib.rc('font', **font)\n",
    "matplotlib.rcParams.update({'font.size': font_size})\n",
    "x = np.arange(10)\n",
    "ys = [i+x+(i*x)**2 for i in range(10)]\n",
    "\n",
    "colors = cm.rainbow(np.linspace(0, 1, len(L_c)))\n",
    "Colordict = {L_c[ii]:colors[ii] for ii in range(len(L_c))}\n",
    "\n",
    "fig,ax = plt.subplots(1,1,figsize=(16,10))\n",
    "\n",
    "for jj in range(len(fit_xvals['f'])):\n",
    "    ax.plot(fit_xvals['f'][jj],fit_yvals['data'][jj],color=Colordict[fit_xvals['lc'][jj]], marker='o')\n",
    "\n",
    "for lc in L_c:\n",
    "    freqs = np.linspace(min(fit_xvals['f']),max(fit_xvals['f']),1000)\n",
    "    ax.plot(freqs,S13(freqs,lc,**fit_res.params.valuesdict()),color=Colordict[lc])\n",
    "    \n",
    "ax.plot(freqs1*1e9,np.sqrt(np.pi/2/qc))\n",
    "ax.set_xlabel('Frequency (Hz)')\n",
    "ax.set_ylabel('S13')"
   ]
  },
  {
   "cell_type": "markdown",
   "metadata": {},
   "source": [
    "## Import data and Use simulation to post-dict the coupler length"
   ]
  },
  {
   "cell_type": "code",
   "execution_count": 20,
   "metadata": {},
   "outputs": [],
   "source": [
    "res_dics = np.load('20180904_Reso_Qi_vs_power.npy')\n",
    "for res_dict in res_dics:\n",
    "    res_dict['High_power_Qi'] = []\n",
    "    res_dict['High_power_NPhot'] = []\n",
    "    res_dict['High_power_field'] = []\n",
    "    res_dict['Multiple_Photon_Levels_Qi'] = []\n",
    "    res_dict['Multiple_Photon_Levels_NPhot'] = []\n",
    "    res_dict['Multiple_Photon_Levels_field'] = []\n",
    "    for tt, r_dict in enumerate(res_dict['all_results']):\n",
    "        res_dict['High_power_Qi'].append(r_dict['Qi'][0]) # Qi at high power (large photon number)\n",
    "        res_dict['High_power_NPhot'].append(r_dict['NPhot'][0]) # Photon number at high power\n",
    "        if (len(r_dict['NPhot'])>1): # Measurements at multiple photon numbers are stored seperately\n",
    "            res_dict['Multiple_Photon_Levels_Qi'].append(r_dict['Qi'])  # All the Qi at the various photon number levels\n",
    "            res_dict['Multiple_Photon_Levels_NPhot'].append(r_dict['NPhot']) # All the photon numbes at the various levels"
   ]
  },
  {
   "cell_type": "code",
   "execution_count": 21,
   "metadata": {},
   "outputs": [
    {
     "data": {
      "text/plain": [
       "Text(0.5,1,'$Q_\\\\mathrm{c}$ vs $f_\\\\mathrm{R}$ for all resonators')"
      ]
     },
     "execution_count": 21,
     "metadata": {},
     "output_type": "execute_result"
    },
    {
     "name": "stderr",
     "output_type": "stream",
     "text": [
      "C:\\ProgramData\\Anaconda3\\lib\\site-packages\\matplotlib\\font_manager.py:1316: UserWarning: findfont: Font family ['normal'] not found. Falling back to DejaVu Sans\n",
      "  (prop.get_family(), self.defaultFamily[fontext]))\n"
     ]
    },
    {
     "data": {
      "image/png": "[encoded data removed]",
      "text/plain": [
       "<matplotlib.figure.Figure at 0xde79d68>"
      ]
     },
     "metadata": {},
     "output_type": "display_data"
    }
   ],
   "source": [
    "font_size = 24\n",
    "font = {'family' : 'normal',\n",
    "        'weight' : 'normal',\n",
    "        'size'   : font_size}\n",
    "matplotlib.rc('font', **font)\n",
    "matplotlib.rcParams.update({'font.size': font_size})\n",
    "\n",
    "figr = plt.figure(figsize=(12,9))\n",
    "ax = figr.add_subplot(111)\n",
    "\n",
    "for tt, res_dict in enumerate(res_dics):\n",
    "        ax.semilogy(res_dict['all_results'][0]['f0'],np.array(res_dict['all_results'][0]['Qc']),\n",
    "                'o',color=res_dict['color'],label=res_dict['plot_label'])    \n",
    "\n",
    "\n",
    "ax.set_ylabel(r'$Q_\\mathrm{c}$ (MHz)')\n",
    "ax.set_xlabel('$f_\\mathrm{R}$ (GHz)')\n",
    "ax.set_title('$Q_\\mathrm{c}$ vs $f_\\mathrm{R}$ for all resonators')\n",
    "# ax.legend(loc='best')#, fontsize=16)\n",
    "# ax.set_ylim(1e3,1e6)"
   ]
  },
  {
   "cell_type": "markdown",
   "metadata": {},
   "source": [
    "# Filter the outlier"
   ]
  },
  {
   "cell_type": "code",
   "execution_count": 22,
   "metadata": {},
   "outputs": [],
   "source": [
    "for kk, res_dict in enumerate(res_dics):\n",
    "    res_dict['Filtered_Qc'] = []\n",
    "    res_dict['Fitered_f0'] = []\n",
    "    for tt, r_dict in enumerate(res_dict['all_results']):\n",
    "        if r_dict['Qc'][tt]<1e5:\n",
    "            res_dict['Filtered_Qc'].append(r_dict['Qc'][tt])\n",
    "            res_dict['Fitered_f0'].append(r_dict['f0'][tt])"
   ]
  },
  {
   "cell_type": "code",
   "execution_count": 23,
   "metadata": {},
   "outputs": [
    {
     "name": "stdout",
     "output_type": "stream",
     "text": [
      "[ 5.65459356  5.74321305  5.86287308  5.9530386   6.07102789  6.16823643\n",
      "  6.27646736  6.48543763  6.70330576  6.70330631  6.89743994  7.09001691\n",
      "  7.47064161]\n"
     ]
    }
   ],
   "source": [
    "freqs1 = []\n",
    "qc = []\n",
    "for tt, res_dict in enumerate(res_dics):\n",
    "    freqs1.extend(res_dict['Fitered_f0'])\n",
    "    qc.extend(res_dict['Filtered_Qc'])\n",
    "freqs1 = np.array(freqs1)\n",
    "qc=np.array(qc)\n",
    "print(freqs1)"
   ]
  },
  {
   "cell_type": "code",
   "execution_count": 61,
   "metadata": {},
   "outputs": [],
   "source": [
    "fit_res.params.valuesdict()\n",
    "\n",
    "def S13(f,lc,A,B,C,D):\n",
    "    return A*f*lc+B*lc+C*f+D\n",
    "\n",
    "def res_fcn(params,S13,x_vals,data):\n",
    "    cmp_values = S13(**x_vals, **params)\n",
    "    res = cmp_values-data['data']\n",
    "    return res\n",
    "guess_dict = {'A':{'value':8.738373136457076e-15},\n",
    "              'B':{'value':5.0782161391245426e-07,'vary':False},\n",
    "              'C':{'value':-8.6652315432266653e-14,'vary':False},\n",
    "              'D':{'value':-9.3770393851303708e-05}}\n",
    "# complex_guess = {key:{'value':val} for key,val in hanger_fit_res.best_values.items()}\n",
    "# complex_guess['f0'] = {'value':complex_guess['f0']['value']*1e9,\n",
    "#             'min':self.proc_data_dict['plot_frequency'][0],\n",
    "#             'max':self.proc_data_dict['plot_frequency'][-1]}\n",
    "# complex_guess['Q'] = {'value':complex_guess['Q']['value'],\n",
    "#             'min':complex_guess['Q']['value']*0.5,\n",
    "#             'max':complex_guess['Q']['value']*2.}\n",
    "\n",
    "params = lmfit.Parameters()\n",
    "for key, val in list(guess_dict.items()):\n",
    "# for key, val in guess_dict.items():\n",
    "    params.add(key)\n",
    "    for attr, attr_val in val.items():\n",
    "        setattr(params[key], attr, attr_val)\n",
    "        \n",
    "# fit_yvals = {'data':np.array([t['S13'] for t in points])}\n",
    "# fit_xvals = {'f':np.array([t['f'] for t in points]),\n",
    "#              'lc':np.array([t['L_c'] for t in points])}\n",
    "fit_xvals = {'f':freqs1*1e9,\n",
    "             'lc':np.ones(len(freqs1))*200.}\n",
    "fit_yvals = {'data':np.sqrt(np.pi/2/qc)}\n",
    "\n",
    "fit_res = lmfit.minimize(fcn=res_fcn,\n",
    "                params=params,\n",
    "                args=(S13, fit_xvals, fit_yvals))"
   ]
  },
  {
   "cell_type": "code",
   "execution_count": 62,
   "metadata": {},
   "outputs": [
    {
     "data": {
      "text/plain": [
       "{'data': array([ 0.01177499,  0.01182415,  0.01281908,  0.0126998 ,  0.01252276,\n",
       "         0.01175429,  0.01104526,  0.01081877,  0.01139071,  0.01138124,\n",
       "         0.01265276,  0.01908667,  0.02611877])}"
      ]
     },
     "execution_count": 62,
     "metadata": {},
     "output_type": "execute_result"
    }
   ],
   "source": [
    "fit_yvals"
   ]
  },
  {
   "cell_type": "code",
   "execution_count": 63,
   "metadata": {
    "collapsed": true
   },
   "outputs": [],
   "source": [
    "coupler_lengths = [184.81294168, 181.61449073, 178.52609694, 175.54217589, 172.65751465, 169.86724145, \n",
    "167.16679822, 162.01859092, 157.1818137, 152.62903722, 148.33596141, 144.2809816]\n"
   ]
  },
  {
   "cell_type": "code",
   "execution_count": 64,
   "metadata": {},
   "outputs": [
    {
     "data": {
      "text/plain": [
       "<function __main__.S13>"
      ]
     },
     "execution_count": 64,
     "metadata": {},
     "output_type": "execute_result"
    }
   ],
   "source": [
    "S13"
   ]
  },
  {
   "cell_type": "code",
   "execution_count": 65,
   "metadata": {
    "scrolled": true
   },
   "outputs": [
    {
     "data": {
      "text/plain": [
       "0.0073395056803728653"
      ]
     },
     "execution_count": 65,
     "metadata": {},
     "output_type": "execute_result"
    }
   ],
   "source": [
    "S13(5.654593559508536*1e9,184.81294168,**fit_res.params.valuesdict())"
   ]
  },
  {
   "cell_type": "code",
   "execution_count": 66,
   "metadata": {},
   "outputs": [
    {
     "data": {
      "text/plain": [
       "Text(0.5,1,'$Q_\\\\mathrm{c}$ vs $f_\\\\mathrm{R}$ for all resonators')"
      ]
     },
     "execution_count": 66,
     "metadata": {},
     "output_type": "execute_result"
    },
    {
     "name": "stderr",
     "output_type": "stream",
     "text": [
      "C:\\ProgramData\\Anaconda3\\lib\\site-packages\\matplotlib\\font_manager.py:1316: UserWarning: findfont: Font family ['normal'] not found. Falling back to DejaVu Sans\n",
      "  (prop.get_family(), self.defaultFamily[fontext]))\n"
     ]
    },
    {
     "data": {
      "image/png": "[encoded data removed]",
      "text/plain": [
       "<matplotlib.figure.Figure at 0x81d9048>"
      ]
     },
     "metadata": {},
     "output_type": "display_data"
    }
   ],
   "source": [
    "figr = plt.figure(figsize=(12,9))\n",
    "ax = figr.add_subplot(111)\n",
    "\n",
    "for tt, res_dict in enumerate(res_dics):\n",
    "        ax.plot(res_dict['Fitered_f0'],np.array(res_dict['Filtered_Qc']),\n",
    "                'o',color=res_dict['color'],label=res_dict['plot_label'])  \n",
    "#         print(res_dict['Fitered_f0'])\n",
    "        ax.plot(res_dict['Fitered_f0'],np.pi/2/S13(np.array(res_dict['Fitered_f0'])*1e9,coupler_lengths[tt],**fit_res.params.valuesdict())**2,'b.')\n",
    "\n",
    "\n",
    "# for tt in len(coupler_lengths):\n",
    "#     print(res_dict['Fitered_f0'])\n",
    "#     freq = \n",
    "#     ax.plot(freq,np.pi/2/S13(freq*1e9,200,**fit_res.params.valuesdict())**2,color='blue')\n",
    "\n",
    "ax.set_ylabel(r'$Q_\\mathrm{c}$ (MHz)')\n",
    "ax.set_xlabel('$f_\\mathrm{R}$ (GHz)')\n",
    "ax.set_title('$Q_\\mathrm{c}$ vs $f_\\mathrm{R}$ for all resonators')\n",
    "# ax.legend(loc='best')#, fontsize=16)\n",
    "# ax.set_ylim(1e3,1e6)"
   ]
  },
  {
   "cell_type": "code",
   "execution_count": 27,
   "metadata": {},
   "outputs": [
    {
     "ename": "NameError",
     "evalue": "name 'OrderedDict' is not defined",
     "output_type": "error",
     "traceback": [
      "\u001b[1;31m---------------------------------------------------------------------------\u001b[0m",
      "\u001b[1;31mNameError\u001b[0m                                 Traceback (most recent call last)",
      "\u001b[1;32m<ipython-input-27-16bdce0a871f>\u001b[0m in \u001b[0;36m<module>\u001b[1;34m()\u001b[0m\n\u001b[1;32m----> 1\u001b[1;33m OrderedDict([('A', 8.738373136457076e-15),\n\u001b[0m\u001b[0;32m      2\u001b[0m              \u001b[1;33m(\u001b[0m\u001b[1;34m'B'\u001b[0m\u001b[1;33m,\u001b[0m \u001b[1;36m5.0782161391245426e-07\u001b[0m\u001b[1;33m)\u001b[0m\u001b[1;33m,\u001b[0m\u001b[1;33m\u001b[0m\u001b[0m\n\u001b[0;32m      3\u001b[0m              \u001b[1;33m(\u001b[0m\u001b[1;34m'C'\u001b[0m\u001b[1;33m,\u001b[0m \u001b[1;33m-\u001b[0m\u001b[1;36m8.6652315432266653e-14\u001b[0m\u001b[1;33m)\u001b[0m\u001b[1;33m,\u001b[0m\u001b[1;33m\u001b[0m\u001b[0m\n\u001b[0;32m      4\u001b[0m              ('D', -9.3770393851303708e-05)])\n",
      "\u001b[1;31mNameError\u001b[0m: name 'OrderedDict' is not defined"
     ]
    }
   ],
   "source": [
    "OrderedDict([('A', 8.738373136457076e-15),\n",
    "             ('B', 5.0782161391245426e-07),\n",
    "             ('C', -8.6652315432266653e-14),\n",
    "             ('D', -9.3770393851303708e-05)])"
   ]
  },
  {
   "cell_type": "code",
   "execution_count": 28,
   "metadata": {},
   "outputs": [
    {
     "data": {
      "text/plain": [
       "OrderedDict([('A', 2.6796922351285285e-14),\n",
       "             ('B', 5.078216139124543e-07),\n",
       "             ('C', -8.665231543226665e-14),\n",
       "             ('D', -0.020268273897766892)])"
      ]
     },
     "execution_count": 28,
     "metadata": {},
     "output_type": "execute_result"
    }
   ],
   "source": [
    "fit_res.params.valuesdict()"
   ]
  },
  {
   "cell_type": "code",
   "execution_count": 29,
   "metadata": {},
   "outputs": [
    {
     "name": "stdout",
     "output_type": "stream",
     "text": [
      "12\n"
     ]
    }
   ],
   "source": [
    "fres = np.array([5.6e9,5.7e9,5.8e9,5.9e9,6.0e9,6.1e9,6.2e9,6.4e9,6.6e9,6.8e9,7.0e9,7.2e9])\n",
    "print(len(fres))"
   ]
  },
  {
   "cell_type": "code",
   "execution_count": 30,
   "metadata": {},
   "outputs": [
    {
     "name": "stdout",
     "output_type": "stream",
     "text": [
      "0.00886226925453\n",
      "[  5.60000000e+09   5.70000000e+09   5.80000000e+09   5.90000000e+09\n",
      "   6.00000000e+09   6.10000000e+09   6.20000000e+09   6.40000000e+09\n",
      "   6.60000000e+09   6.80000000e+09   7.00000000e+09   7.20000000e+09]\n",
      "[ 196.69044766  193.30771559  190.04124957  186.88515669  183.83393568\n",
      "  180.88244486  178.02587331  172.57974313  167.46273644  162.64589361\n",
      "  158.1035558   153.81290763]\n"
     ]
    }
   ],
   "source": [
    "resdict = fit_res.params.valuesdict()\n",
    "Q_c = 20.0e3\n",
    "S13 = np.sqrt(np.pi/2/Q_c)\n",
    "print(S13)\n",
    "print(fres)\n",
    "Lc = (S13 - resdict['C']*fres-resdict['D'])/(resdict['A']*fres+resdict['B'])\n",
    "print(Lc)"
   ]
  },
  {
   "cell_type": "code",
   "execution_count": 31,
   "metadata": {},
   "outputs": [
    {
     "data": {
      "text/plain": [
       "array([-0.00048525, -0.00049392, -0.00050258, -0.00051125, -0.00051991,\n",
       "       -0.00052858, -0.00053724, -0.00055457, -0.00057191, -0.00058924,\n",
       "       -0.00060657, -0.0006239 ])"
      ]
     },
     "execution_count": 31,
     "metadata": {},
     "output_type": "execute_result"
    }
   ],
   "source": [
    "resdict['C']*np.array(fres)"
   ]
  },
  {
   "cell_type": "code",
   "execution_count": null,
   "metadata": {
    "collapsed": true
   },
   "outputs": [],
   "source": []
  },
  {
   "cell_type": "code",
   "execution_count": null,
   "metadata": {
    "collapsed": true
   },
   "outputs": [],
   "source": []
  }
 ],
 "metadata": {
  "kernelspec": {
   "display_name": "Python 3",
   "language": "python",
   "name": "python3"
  },
  "language_info": {
   "codemirror_mode": {
    "name": "ipython",
    "version": 3
   },
   "file_extension": ".py",
   "mimetype": "text/x-python",
   "name": "python",
   "nbconvert_exporter": "python",
   "pygments_lexer": "ipython3",
   "version": "3.6.3"
  }
 },
 "nbformat": 4,
 "nbformat_minor": 2
}
