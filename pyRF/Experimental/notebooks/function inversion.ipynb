{
 "cells": [
  {
   "cell_type": "code",
   "execution_count": 1,
   "id": "53004fdb",
   "metadata": {},
   "outputs": [
    {
     "name": "stderr",
     "output_type": "stream",
     "text": [
      "<ipython-input-1-d251b91a2801>:8: MatplotlibDeprecationWarning: \n",
      "The mpl_toolkits.axes_grid module was deprecated in Matplotlib 2.1 and will be removed two minor releases later. Use mpl_toolkits.axes_grid1 and mpl_toolkits.axisartist, which provide the same functionality instead.\n",
      "  from mpl_toolkits.axes_grid.inset_locator import inset_axes\n"
     ]
    }
   ],
   "source": [
    "import sys \n",
    "import numpy as np\n",
    "import matplotlib\n",
    "import matplotlib.pyplot as plt \n",
    "import matplotlib.gridspec as gridspec\n",
    "import matplotlib.image as mpimg\n",
    "from mpl_toolkits.axes_grid1 import make_axes_locatable\n",
    "from mpl_toolkits.axes_grid.inset_locator import inset_axes\n",
    "from collections import OrderedDict as od\n",
    "from scipy import constants\n",
    "from scipy import optimize\n",
    "import scipy\n",
    "import math\n",
    "import ipywidgets\n",
    "import pandas as pd\n",
    "import lmfit\n",
    "import colorsys as colors\n",
    "from IPython.display import display\n",
    "# from nw_plotting_tools import *\n",
    "# execfile('nw_figure_settings.py')\n",
    "# savedir = 'D:\\\\Experiments\\\\1909_Cheesymon_v8_E2\\\\data\\\\'\n",
    "# reload(MA)\n",
    "# reload(a_tools)\n",
    "# print(savedir)"
   ]
  },
  {
   "cell_type": "code",
   "execution_count": 9,
   "id": "d3b0c8f1",
   "metadata": {},
   "outputs": [],
   "source": [
    "def f(x,a):\n",
    "    return np.exp(x)-a\n",
    "def fp(x):\n",
    "    return np.exp(x)\n",
    "def fpp(x):\n",
    "    return np.exp(x)\n",
    "\n",
    "def eqndiff(val, x):\n",
    "    return np.exp(val) - x\n",
    "\n",
    "def manlog(x):\n",
    "    eps=4e-16\n",
    "    startpoint = 1\n",
    "    point=startpoint\n",
    "    numit = 0\n",
    "    while (abs(eqndiff(point,x))>eps and numit<10):\n",
    "        point = point -2*f(point,x)*fp(point)/(2*fp(point)**2-f(point,x)*fpp(point))\n",
    "        print(point)\n",
    "        numit += 1\n",
    "    return point\n"
   ]
  },
  {
   "cell_type": "code",
   "execution_count": 13,
   "id": "9a75d994",
   "metadata": {},
   "outputs": [
    {
     "name": "stdout",
     "output_type": "stream",
     "text": [
      "(-0.5231883119115299+1.296108547327771j)\n",
      "(-0.0024944887588920217+1.554128434249677j)\n",
      "(1.7196804264277277e-07+1.5707966867619663j)\n",
      "(1.283817662604597e-16+1.5707963267948966j)\n"
     ]
    },
    {
     "data": {
      "text/plain": [
       "(1.283817662604597e-16+1.5707963267948966j)"
      ]
     },
     "execution_count": 13,
     "metadata": {},
     "output_type": "execute_result"
    }
   ],
   "source": [
    "manlog(1j+1e-16)"
   ]
  },
  {
   "cell_type": "code",
   "execution_count": 12,
   "id": "fef5800d",
   "metadata": {},
   "outputs": [
    {
     "data": {
      "text/plain": [
       "(4.9999999999999996e-33+1.5707963267948966j)"
      ]
     },
     "execution_count": 12,
     "metadata": {},
     "output_type": "execute_result"
    }
   ],
   "source": [
    "np.log(1j+1e-16)"
   ]
  },
  {
   "cell_type": "code",
   "execution_count": 14,
   "id": "67ff0484",
   "metadata": {},
   "outputs": [],
   "source": [
    "from scipy.special import lambertw"
   ]
  },
  {
   "cell_type": "code",
   "execution_count": 27,
   "id": "648037db",
   "metadata": {},
   "outputs": [
    {
     "data": {
      "text/plain": [
       "(-0.9999999807836665+0j)"
      ]
     },
     "execution_count": 27,
     "metadata": {},
     "output_type": "execute_result"
    }
   ],
   "source": [
    "scipy.special.lambertw(-np.exp(-1)+0.0000000000000001)"
   ]
  },
  {
   "cell_type": "code",
   "execution_count": null,
   "id": "9f40a0ab",
   "metadata": {},
   "outputs": [],
   "source": []
  },
  {
   "cell_type": "code",
   "execution_count": null,
   "id": "f7693ef3",
   "metadata": {},
   "outputs": [],
   "source": []
  }
 ],
 "metadata": {
  "kernelspec": {
   "display_name": "Python 3",
   "language": "python",
   "name": "python3"
  },
  "language_info": {
   "codemirror_mode": {
    "name": "ipython",
    "version": 3
   },
   "file_extension": ".py",
   "mimetype": "text/x-python",
   "name": "python",
   "nbconvert_exporter": "python",
   "pygments_lexer": "ipython3",
   "version": "3.8.8"
  }
 },
 "nbformat": 4,
 "nbformat_minor": 5
}
