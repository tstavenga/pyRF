{
 "cells": [
  {
   "cell_type": "code",
   "execution_count": 13,
   "metadata": {},
   "outputs": [
    {
     "name": "stdout",
     "output_type": "stream",
     "text": [
      "The autoreload extension is already loaded. To reload it, use:\n",
      "  %reload_ext autoreload\n"
     ]
    }
   ],
   "source": [
    "%load_ext autoreload\n",
    "%autoreload 2\n",
    "import numpy as np\n",
    "import matplotlib.pyplot as plt\n",
    "from pyRF.circuit import Circuit\n",
    "from pyRF.feedline import TimeDomainSolution\n",
    "from pyRF.Experimental.examples.feedline_time_domain import Feedline\n",
    "from pyRF.Experimental.examples.quarter_wave_resonator import QuarterWave\n",
    "from pyRF.feedline import TimeDomainSolution"
   ]
  },
  {
   "cell_type": "code",
   "execution_count": 11,
   "metadata": {},
   "outputs": [],
   "source": [
    "feedline_circuit = Feedline()\n",
    "feedline_circuit.initialize()\n",
    "F1 = feedline_circuit.feedline_dict['F1']\n",
    "E1, E2 = F1.get_eigenfunction(50)"
   ]
  },
  {
   "cell_type": "code",
   "execution_count": 34,
   "metadata": {},
   "outputs": [],
   "source": [
    "solution = TimeDomainSolution(F1, np.linspace(0e-3,20e-3,50))"
   ]
  },
  {
   "cell_type": "code",
   "execution_count": 39,
   "metadata": {},
   "outputs": [],
   "source": [
    "phi1 = solution.eigenfunction_database.loc[0]\n",
    "phi2 = solution.eigenfunction_database.loc[1]\n"
   ]
  },
  {
   "cell_type": "code",
   "execution_count": 71,
   "metadata": {},
   "outputs": [
    {
     "data": {
      "text/plain": [
       "array([ 0,  1,  2,  3,  4,  5,  6,  7,  8,  9, 10, 11, 12, 13, 14, 15, 16,\n",
       "       17, 18, 19, 20, 21, 22, 23, 24], dtype=int64)"
      ]
     },
     "execution_count": 71,
     "metadata": {},
     "output_type": "execute_result"
    }
   ],
   "source": [
    "A1right = np.zeros(len(phi1), dtype=np.complex128)\n",
    "y = np.exp(-((solution.position_values-5e-3)/1e-3)**2)\n",
    "channel = 0\n",
    "z_start, z_stop = F1.channel_limits[channel]\n",
    "inds = np.argwhere(np.logical_and(solution.position_values >= z_start,\n",
    "                                  solution.position_values <= z_stop)).flatten()\n",
    "inds\n"
   ]
  },
  {
   "cell_type": "code",
   "execution_count": 72,
   "metadata": {},
   "outputs": [],
   "source": [
    "channel_solution = np.zeros(len(solution.position_values))\n",
    "channel_solution[inds] = y[inds]"
   ]
  },
  {
   "cell_type": "code",
   "execution_count": 73,
   "metadata": {},
   "outputs": [
    {
     "data": {
      "text/plain": [
       "(2, 50)"
      ]
     },
     "execution_count": 73,
     "metadata": {},
     "output_type": "execute_result"
    }
   ],
   "source": [
    "solution.eigenfunction_database.values.shape"
   ]
  },
  {
   "cell_type": "code",
   "execution_count": 74,
   "metadata": {},
   "outputs": [],
   "source": [
    "# for x in solution.eigenfunction_database.values[1,:]:\n",
    "#     print(x)"
   ]
  },
  {
   "cell_type": "code",
   "execution_count": 75,
   "metadata": {},
   "outputs": [],
   "source": [
    "phi_1_right_k = [phi_1_right.coefficients[0] for phi_1_right in solution.eigenfunction_database.values[0,:]]"
   ]
  },
  {
   "cell_type": "code",
   "execution_count": 76,
   "metadata": {},
   "outputs": [],
   "source": [
    "A1right +=np.fft.fft(channel_solution, norm='ortho')*np.conjugate(phi_1_right_k)"
   ]
  },
  {
   "cell_type": "code",
   "execution_count": 86,
   "metadata": {},
   "outputs": [],
   "source": [
    "k = np.array(list(solution.eigenfunction_database.keys()))"
   ]
  },
  {
   "cell_type": "code",
   "execution_count": 99,
   "metadata": {},
   "outputs": [],
   "source": [
    "c = 1e-3\n",
    "t = 5\n",
    "A1t = (A1right)*np.exp(-2j*np.pi*c*k*t)\n"
   ]
  },
  {
   "cell_type": "code",
   "execution_count": 100,
   "metadata": {},
   "outputs": [],
   "source": [
    "solution_region = np.zeros((len(solution.position_values)), dtype=np.complex128)\n",
    "solution_region += np.fft.ifft(A1t*phi_1_right_k, norm='ortho')\n"
   ]
  },
  {
   "cell_type": "code",
   "execution_count": 101,
   "metadata": {},
   "outputs": [
    {
     "data": {
      "text/plain": [
       "[<matplotlib.lines.Line2D at 0x1818b2e8340>]"
      ]
     },
     "execution_count": 101,
     "metadata": {},
     "output_type": "execute_result"
    },
    {
     "data": {
      "image/png": "[encoded data removed]",
      "text/plain": [
       "<Figure size 640x480 with 1 Axes>"
      ]
     },
     "metadata": {},
     "output_type": "display_data"
    }
   ],
   "source": [
    "plt.plot(solution.position_values, solution_region)"
   ]
  },
  {
   "cell_type": "code",
   "execution_count": null,
   "metadata": {},
   "outputs": [],
   "source": []
  }
 ],
 "metadata": {
  "kernelspec": {
   "display_name": "base",
   "language": "python",
   "name": "python3"
  },
  "language_info": {
   "codemirror_mode": {
    "name": "ipython",
    "version": 3
   },
   "file_extension": ".py",
   "mimetype": "text/x-python",
   "name": "python",
   "nbconvert_exporter": "python",
   "pygments_lexer": "ipython3",
   "version": "3.8.17"
  }
 },
 "nbformat": 4,
 "nbformat_minor": 2
}
