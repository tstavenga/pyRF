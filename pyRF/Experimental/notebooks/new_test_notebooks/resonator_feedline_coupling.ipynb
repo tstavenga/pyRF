{
 "cells": [
  {
   "cell_type": "code",
   "execution_count": 2,
   "metadata": {},
   "outputs": [],
   "source": [
    "%load_ext autoreload\n",
    "%autoreload 2\n",
    "import numpy as np\n",
    "np.set_printoptions(precision=3, suppress=True)\n",
    "import matplotlib.pyplot as plt\n",
    "import scipy\n",
    "from pyRF.circuit import Circuit\n",
    "from pyRF.feedline import TimeDomainSolution\n",
    "from pyRF.Experimental.examples.feedline_time_domain import Feedline\n",
    "from pyRF.Experimental.examples.quarter_wave_resonator import QuarterWave\n",
    "from pyRF.feedline import TimeDomainSolution\n",
    "from pyRF.Experimental.examples.coupled_resonator_feedline import ResonatorFeedline"
   ]
  },
  {
   "cell_type": "code",
   "execution_count": 3,
   "metadata": {},
   "outputs": [],
   "source": [
    "resonator_feedline_circuit = ResonatorFeedline('quarter_wave')\n",
    "resonator_feedline_circuit.initialize()\n",
    "R1 = resonator_feedline_circuit.resonator_dict['R1']\n",
    "F1 = resonator_feedline_circuit.feedline_dict['F1']"
   ]
  },
  {
   "cell_type": "code",
   "execution_count": 4,
   "metadata": {},
   "outputs": [
    {
     "data": {
      "text/plain": [
       "array([[-1.   +0.j   ,  1.   +0.j   ],\n",
       "       [ 0.992+0.125j, -1.   +0.j   ]])"
      ]
     },
     "execution_count": 4,
     "metadata": {},
     "output_type": "execute_result"
    }
   ],
   "source": [
    "R1.matrix_condition(60)"
   ]
  },
  {
   "cell_type": "code",
   "execution_count": 5,
   "metadata": {},
   "outputs": [
    {
     "data": {
      "text/plain": [
       "6249999999.999999"
      ]
     },
     "execution_count": 5,
     "metadata": {},
     "output_type": "execute_result"
    }
   ],
   "source": [
    "fr = R1.get_eigenvalue()*1e8\n",
    "fr"
   ]
  },
  {
   "cell_type": "code",
   "execution_count": 6,
   "metadata": {},
   "outputs": [
    {
     "data": {
      "text/plain": [
       "6.249999999999999"
      ]
     },
     "execution_count": 6,
     "metadata": {},
     "output_type": "execute_result"
    }
   ],
   "source": [
    "fr*1e-9"
   ]
  },
  {
   "cell_type": "code",
   "execution_count": 7,
   "metadata": {},
   "outputs": [
    {
     "data": {
      "text/plain": [
       "array(22.361+0.j)"
      ]
     },
     "execution_count": 7,
     "metadata": {},
     "output_type": "execute_result"
    }
   ],
   "source": [
    "phi = R1.get_eigenfunction()\n",
    "phi(0)"
   ]
  },
  {
   "cell_type": "code",
   "execution_count": 8,
   "metadata": {},
   "outputs": [],
   "source": [
    "k=60\n",
    "feedline_a, feedline_b = F1.get_eigenfunction(k)"
   ]
  },
  {
   "cell_type": "code",
   "execution_count": 9,
   "metadata": {},
   "outputs": [
    {
     "data": {
      "text/plain": [
       "array(-0.809-0.588j)"
      ]
     },
     "execution_count": 9,
     "metadata": {},
     "output_type": "execute_result"
    }
   ],
   "source": [
    "feedline_b(10e-3)"
   ]
  },
  {
   "cell_type": "code",
   "execution_count": 10,
   "metadata": {},
   "outputs": [
    {
     "name": "stderr",
     "output_type": "stream",
     "text": [
      "c:\\Users\\thijs\\anaconda3\\lib\\site-packages\\matplotlib\\cbook\\__init__.py:1335: ComplexWarning: Casting complex values to real discards the imaginary part\n",
      "  return np.asarray(x, float)\n"
     ]
    },
    {
     "data": {
      "image/png": "[encoded data removed]",
      "text/plain": [
       "<Figure size 640x480 with 1 Axes>"
      ]
     },
     "metadata": {},
     "output_type": "display_data"
    }
   ],
   "source": [
    "feedline_a.plot()"
   ]
  },
  {
   "cell_type": "code",
   "execution_count": 27,
   "metadata": {},
   "outputs": [
    {
     "name": "stdout",
     "output_type": "stream",
     "text": [
      "0.003354101966249685\n",
      "0.003354101966249685\n"
     ]
    }
   ],
   "source": [
    "Z0=50\n",
    "phi0=1e8\n",
    "clengthinv = Z0*phi0\n",
    "cap = 30e-15\n",
    "ja = abs(feedline_a(10e-3)*cap*clengthinv*phi(0))\n",
    "print(ja)\n",
    "\n",
    "jb = abs(feedline_b(10e-3)*cap*clengthinv*phi(0))\n",
    "print(jb)"
   ]
  },
  {
   "cell_type": "code",
   "execution_count": 50,
   "metadata": {},
   "outputs": [
    {
     "name": "stdout",
     "output_type": "stream",
     "text": [
      "[6.253+0.j 6.188+0.j 6.184+0.j]\n",
      "[[-0.156 -0.707  0.69 ]\n",
      " [-0.156  0.707  0.69 ]\n",
      " [ 0.975 -0.     0.217]]\n"
     ]
    }
   ],
   "source": [
    "SD = np.array([[1, 0, ja],\n",
    "               [0, 1, jb],\n",
    "               [ja, jb, 1]])\n",
    "f = fr*0.99#k*phi0*1.02\n",
    "M = np.array([[f**2, 0, 0],\n",
    "              [0, f**2, 0],\n",
    "              [0, 0, fr**2]])*1e-18\n",
    "A = scipy.linalg.inv(SD)@M\n",
    "vecs = scipy.linalg.inv(SD)@np.eye(3)\n",
    "eigval, eigvec = scipy.linalg.eig(A)\n",
    "print(np.sqrt(eigval))\n",
    "print(eigvec)"
   ]
  },
  {
   "cell_type": "code",
   "execution_count": 42,
   "metadata": {},
   "outputs": [
    {
     "data": {
      "text/plain": [
       "array([[-0.156, -0.707,  0.69 ]])"
      ]
     },
     "execution_count": 42,
     "metadata": {},
     "output_type": "execute_result"
    }
   ],
   "source": [
    "np.array([[1], [0],[ 0]]).T @eigvec "
   ]
  },
  {
   "cell_type": "code",
   "execution_count": 56,
   "metadata": {},
   "outputs": [
    {
     "data": {
      "text/plain": [
       "array([[ 0.029+0.j,  0.029+0.j, -0.186+0.j],\n",
       "       [ 0.029+0.j,  0.029+0.j, -0.186+0.j],\n",
       "       [-0.182+0.j, -0.182+0.j,  1.162+0.j]])"
      ]
     },
     "execution_count": 56,
     "metadata": {},
     "output_type": "execute_result"
    }
   ],
   "source": [
    "\n",
    "eigvec @ np.diag(np.array([1/(eigval[0]-eigval[1]), 0,0])) @ np.linalg.inv(eigvec)"
   ]
  },
  {
   "cell_type": "code",
   "execution_count": 59,
   "metadata": {},
   "outputs": [
    {
     "data": {
      "text/plain": [
       "array([[ 0.5, -0.5,  0. ],\n",
       "       [-0.5,  0.5, -0. ],\n",
       "       [ 0. , -0. ,  0. ]])"
      ]
     },
     "execution_count": 59,
     "metadata": {},
     "output_type": "execute_result"
    }
   ],
   "source": [
    "eigvec @ np.diag(np.array([0, 1, 0])) @ np.linalg.inv(eigvec)\n"
   ]
  },
  {
   "cell_type": "code",
   "execution_count": 58,
   "metadata": {},
   "outputs": [
    {
     "data": {
      "text/plain": [
       "array([[-11.828+0.j, -11.828+0.j,  -3.787+0.j],\n",
       "       [-11.828+0.j, -11.828+0.j,  -3.787+0.j],\n",
       "       [ -3.711+0.j,  -3.711+0.j,  -1.188+0.j]])"
      ]
     },
     "execution_count": 58,
     "metadata": {},
     "output_type": "execute_result"
    }
   ],
   "source": [
    "eigvec @ np.diag(np.array([0, 0, 1/(eigval[2]-eigval[1])])) @ np.linalg.inv(eigvec)\n"
   ]
  },
  {
   "cell_type": "code",
   "execution_count": null,
   "metadata": {},
   "outputs": [],
   "source": [
    "eig[:,0]*np.diag()"
   ]
  },
  {
   "cell_type": "code",
   "execution_count": 29,
   "metadata": {},
   "outputs": [],
   "source": [
    "eig, eigvec = scipy.linalg.eig((A-f**2*np.eye(3))*1e-18)"
   ]
  },
  {
   "cell_type": "code",
   "execution_count": 23,
   "metadata": {},
   "outputs": [
    {
     "data": {
      "text/plain": [
       "array([0.   +0.j, 0.   +0.j, 1.608+0.j])"
      ]
     },
     "execution_count": 23,
     "metadata": {},
     "output_type": "execute_result"
    }
   ],
   "source": [
    "eig"
   ]
  },
  {
   "cell_type": "code",
   "execution_count": 217,
   "metadata": {},
   "outputs": [
    {
     "data": {
      "text/plain": [
       "-9.615589874979584e-18"
      ]
     },
     "execution_count": 217,
     "metadata": {},
     "output_type": "execute_result"
    }
   ],
   "source": [
    "scipy.linalg.det((A-f**2*np.eye(3))*1e-18)"
   ]
  },
  {
   "cell_type": "code",
   "execution_count": 190,
   "metadata": {},
   "outputs": [
    {
     "data": {
      "text/plain": [
       "array([[ 1.   ,  0.   , -0.003],\n",
       "       [ 0.   ,  1.   , -0.003],\n",
       "       [-0.003, -0.003,  1.   ]])"
      ]
     },
     "execution_count": 190,
     "metadata": {},
     "output_type": "execute_result"
    }
   ],
   "source": [
    "vecs"
   ]
  },
  {
   "cell_type": "code",
   "execution_count": 185,
   "metadata": {},
   "outputs": [
    {
     "data": {
      "text/plain": [
       "array([[-0.5  , -0.5  ,  0.707],\n",
       "       [-0.707,  0.707,  0.   ],\n",
       "       [ 0.5  ,  0.5  ,  0.707]])"
      ]
     },
     "execution_count": 185,
     "metadata": {},
     "output_type": "execute_result"
    }
   ],
   "source": [
    "(scipy.linalg.inv(eigvec))\n",
    "# (z[:,0] + z[:,1])/np.sqrt(2)\n"
   ]
  },
  {
   "cell_type": "code",
   "execution_count": 152,
   "metadata": {},
   "outputs": [
    {
     "ename": "NameError",
     "evalue": "name 'c' is not defined",
     "output_type": "error",
     "traceback": [
      "\u001b[1;31m---------------------------------------------------------------------------\u001b[0m",
      "\u001b[1;31mNameError\u001b[0m                                 Traceback (most recent call last)",
      "\u001b[1;32mc:\\Users\\thijs\\Documents\\GithubRepositories\\pyRF\\pyRF\\Experimental\\notebooks\\new_test_notebooks\\resonator_feedline_coupling.ipynb Cell 14\u001b[0m line \u001b[0;36m1\n\u001b[1;32m----> <a href='vscode-notebook-cell:/c%3A/Users/thijs/Documents/GithubRepositories/pyRF/pyRF/Experimental/notebooks/new_test_notebooks/resonator_feedline_coupling.ipynb#W6sZmlsZQ%3D%3D?line=0'>1</a>\u001b[0m jflk \u001b[39m=\u001b[39m phi\u001b[39m*\u001b[39mc\u001b[39m*\u001b[39mclengthinv\u001b[39m*\u001b[39mpsi\n\u001b[0;32m      <a href='vscode-notebook-cell:/c%3A/Users/thijs/Documents/GithubRepositories/pyRF/pyRF/Experimental/notebooks/new_test_notebooks/resonator_feedline_coupling.ipynb#W6sZmlsZQ%3D%3D?line=1'>2</a>\u001b[0m jresk \u001b[39m=\u001b[39m phi\u001b[39m*\u001b[39mc\u001b[39m*\u001b[39mclengthinv\u001b[39m*\u001b[39mpsi\n\u001b[0;32m      <a href='vscode-notebook-cell:/c%3A/Users/thijs/Documents/GithubRepositories/pyRF/pyRF/Experimental/notebooks/new_test_notebooks/resonator_feedline_coupling.ipynb#W6sZmlsZQ%3D%3D?line=3'>4</a>\u001b[0m TDcoupling \u001b[39m=\u001b[39m jflk\u001b[39m*\u001b[39mjresk\u001b[39m*\u001b[39mnp\u001b[39m.\u001b[39mpi\u001b[39m*\u001b[39m\u001b[39m*\u001b[39m\u001b[39m2\u001b[39m\u001b[39m/\u001b[39mphi0\u001b[39m*\u001b[39m\u001b[39m2\u001b[39m\n",
      "\u001b[1;31mNameError\u001b[0m: name 'c' is not defined"
     ]
    }
   ],
   "source": [
    "jflk = phi*c*clengthinv*psi\n",
    "jresk = phi*c*clengthinv*psi\n",
    "\n",
    "TDcoupling = jflk*jresk*np.pi**2/phi0*2"
   ]
  },
  {
   "cell_type": "code",
   "execution_count": 31,
   "metadata": {},
   "outputs": [
    {
     "data": {
      "text/plain": [
       "[3.879634666901867e-18, -2.081306613249581e-16]"
      ]
     },
     "execution_count": 31,
     "metadata": {},
     "output_type": "execute_result"
    }
   ],
   "source": [
    "R1.mode_condition(fr*1e-8)"
   ]
  },
  {
   "cell_type": "code",
   "execution_count": 25,
   "metadata": {},
   "outputs": [
    {
     "data": {
      "text/plain": [
       "[<pyRF.eigenfunction.FeedlineEigenfunction at 0x28f75f490d0>,\n",
       " <pyRF.eigenfunction.FeedlineEigenfunction at 0x28f775897f0>]"
      ]
     },
     "execution_count": 25,
     "metadata": {},
     "output_type": "execute_result"
    }
   ],
   "source": [
    "F1.get_eigenfunction(60)"
   ]
  }
 ],
 "metadata": {
  "kernelspec": {
   "display_name": "base",
   "language": "python",
   "name": "python3"
  },
  "language_info": {
   "codemirror_mode": {
    "name": "ipython",
    "version": 3
   },
   "file_extension": ".py",
   "mimetype": "text/x-python",
   "name": "python",
   "nbconvert_exporter": "python",
   "pygments_lexer": "ipython3",
   "version": "3.8.17"
  }
 },
 "nbformat": 4,
 "nbformat_minor": 2
}
