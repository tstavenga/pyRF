{
 "cells": [
  {
   "cell_type": "code",
   "execution_count": 16,
   "metadata": {},
   "outputs": [
    {
     "name": "stdout",
     "output_type": "stream",
     "text": [
      "The autoreload extension is already loaded. To reload it, use:\n",
      "  %reload_ext autoreload\n"
     ]
    }
   ],
   "source": [
    "%load_ext autoreload\n",
    "%autoreload 2\n",
    "import numpy as np\n",
    "import matplotlib.pyplot as plt\n",
    "from pyRF.circuit import Circuit\n",
    "from pyRF.feedline import TimeDomainSolution\n",
    "from pyRF.Experimental.examples.feedline_time_domain import Feedline\n",
    "from pyRF.Experimental.examples.quarter_wave_resonator import QuarterWave\n",
    "from pyRF.feedline import TimeDomainSolution\n",
    "from pyRF.Experimental.examples.coupled_resonator_feedline import ResonatorFeedline"
   ]
  },
  {
   "cell_type": "code",
   "execution_count": 20,
   "metadata": {},
   "outputs": [],
   "source": [
    "resonator_feedline_circuit = ResonatorFeedline('quarter_wave')\n",
    "resonator_feedline_circuit.initialize()\n",
    "R1 = resonator_feedline_circuit.resonator_dict['R1']\n",
    "F1 = resonator_feedline_circuit.feedline_dict['F1']"
   ]
  },
  {
   "cell_type": "code",
   "execution_count": 29,
   "metadata": {},
   "outputs": [
    {
     "data": {
      "text/plain": [
       "6212920435.998129"
      ]
     },
     "execution_count": 29,
     "metadata": {},
     "output_type": "execute_result"
    }
   ],
   "source": [
    "fr = R1.get_eigenvalue()*1e8\n",
    "fr"
   ]
  },
  {
   "cell_type": "code",
   "execution_count": 30,
   "metadata": {},
   "outputs": [
    {
     "data": {
      "text/plain": [
       "6.21292043599813"
      ]
     },
     "execution_count": 30,
     "metadata": {},
     "output_type": "execute_result"
    }
   ],
   "source": [
    "fr*1e-9"
   ]
  },
  {
   "cell_type": "code",
   "execution_count": 33,
   "metadata": {},
   "outputs": [
    {
     "data": {
      "text/plain": [
       "array(22.42575415+0.20899414j)"
      ]
     },
     "execution_count": 33,
     "metadata": {},
     "output_type": "execute_result"
    }
   ],
   "source": [
    "phi = R1.get_eigenfunction()\n",
    "phi(0)"
   ]
  },
  {
   "cell_type": "code",
   "execution_count": null,
   "metadata": {},
   "outputs": [],
   "source": []
  },
  {
   "cell_type": "code",
   "execution_count": null,
   "metadata": {},
   "outputs": [],
   "source": []
  },
  {
   "cell_type": "code",
   "execution_count": 34,
   "metadata": {},
   "outputs": [],
   "source": [
    "feedline_a, feedline_b = F1.get_eigenfunction(60)"
   ]
  },
  {
   "cell_type": "code",
   "execution_count": 35,
   "metadata": {},
   "outputs": [
    {
     "data": {
      "text/plain": [
       "(-0.00270427440119127+0.002000864273260278j)"
      ]
     },
     "execution_count": 35,
     "metadata": {},
     "output_type": "execute_result"
    }
   ],
   "source": [
    "Z0=50\n",
    "phi0=1e8\n",
    "clengthinv = Z0*phi0\n",
    "cap = 30e-15\n",
    "ja = feedline_a(10e-3)*cap*clengthinv*phi(0)\n",
    "ja"
   ]
  },
  {
   "cell_type": "code",
   "execution_count": null,
   "metadata": {},
   "outputs": [],
   "source": [
    "jflk = phi*c*clengthinv*psi\n",
    "jresk = phi*c*clengthinv*psi\n",
    "\n",
    "TDcoupling = jflk*jresk*np.pi**2/phi0*2"
   ]
  },
  {
   "cell_type": "code",
   "execution_count": 31,
   "metadata": {},
   "outputs": [
    {
     "data": {
      "text/plain": [
       "[3.879634666901867e-18, -2.081306613249581e-16]"
      ]
     },
     "execution_count": 31,
     "metadata": {},
     "output_type": "execute_result"
    }
   ],
   "source": [
    "R1.mode_condition(fr*1e-8)"
   ]
  },
  {
   "cell_type": "code",
   "execution_count": 25,
   "metadata": {},
   "outputs": [
    {
     "data": {
      "text/plain": [
       "[<pyRF.eigenfunction.FeedlineEigenfunction at 0x28f75f490d0>,\n",
       " <pyRF.eigenfunction.FeedlineEigenfunction at 0x28f775897f0>]"
      ]
     },
     "execution_count": 25,
     "metadata": {},
     "output_type": "execute_result"
    }
   ],
   "source": [
    "F1.get_eigenfunction(60)"
   ]
  }
 ],
 "metadata": {
  "kernelspec": {
   "display_name": "base",
   "language": "python",
   "name": "python3"
  },
  "language_info": {
   "codemirror_mode": {
    "name": "ipython",
    "version": 3
   },
   "file_extension": ".py",
   "mimetype": "text/x-python",
   "name": "python",
   "nbconvert_exporter": "python",
   "pygments_lexer": "ipython3",
   "version": "3.8.17"
  }
 },
 "nbformat": 4,
 "nbformat_minor": 2
}
